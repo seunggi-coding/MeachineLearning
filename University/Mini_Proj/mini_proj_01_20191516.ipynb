{
 "cells": [
  {
   "cell_type": "markdown",
   "id": "ba1699a1",
   "metadata": {},
   "source": [
    "# EMNIST 머신러닝 프로젝트1 시작"
   ]
  },
  {
   "cell_type": "markdown",
   "id": "f701103c",
   "metadata": {},
   "source": [
    "## Pandas의 read_csv()를 이용해 훈련셋 읽고, NumPy 배열 data_train로 저장"
   ]
  },
  {
   "cell_type": "markdown",
   "id": "f937744d",
   "metadata": {},
   "source": [
    "import numpy as np\n",
    "import pandas as pd\n",
    "\n",
    "input_file = \"emnist-digits-train.csv\"\n",
    "df_train = pd.read_csv(input_file, header=None)"
   ]
  },
  {
   "cell_type": "markdown",
   "id": "58adb09e",
   "metadata": {},
   "source": [
    "data_train = df_train.to_numpy()\n",
    "data_train"
   ]
  },
  {
   "cell_type": "markdown",
   "id": "cc29e9f0",
   "metadata": {},
   "source": [
    "data_train.shape"
   ]
  },
  {
   "cell_type": "markdown",
   "id": "8121c2e9",
   "metadata": {},
   "source": [
    "## 훈련셋을 타겟값과 데이터 배열로 분리"
   ]
  },
  {
   "cell_type": "markdown",
   "id": "6478f502",
   "metadata": {},
   "source": [
    "X_train = data_train[:, 1:]\n",
    "X_train"
   ]
  },
  {
   "cell_type": "markdown",
   "id": "be270fbb",
   "metadata": {},
   "source": [
    "y_train = data_train[:, 0]\n",
    "y_train"
   ]
  },
  {
   "cell_type": "markdown",
   "id": "cbbb7f2a",
   "metadata": {},
   "source": [
    "## Min-Max 스케일링 적용한 훈련셋"
   ]
  },
  {
   "cell_type": "markdown",
   "id": "9de8e681",
   "metadata": {
    "scrolled": true
   },
   "source": [
    "min_pixel_value = X_train.min()\n",
    "max_pixel_value = X_train.max()\n",
    "\n",
    "X_train_normalized = (X_train - min_pixel_value) / (max_pixel_value - min_pixel_value)\n",
    "X_train_normalized"
   ]
  },
  {
   "cell_type": "markdown",
   "id": "69cfb476",
   "metadata": {},
   "source": [
    "## 표준화 스케일링 적용한 훈련셋"
   ]
  },
  {
   "cell_type": "markdown",
   "id": "ca93d20a",
   "metadata": {},
   "source": [
    "from sklearn.preprocessing import StandardScaler\n",
    "\n",
    "scaler = StandardScaler()\n",
    "X_train_standardized = scaler.fit_transform(X_train)\n",
    "X_train_standardized"
   ]
  },
  {
   "cell_type": "markdown",
   "id": "50d9fdbc",
   "metadata": {},
   "source": [
    "## 확률적 경사 하강법 분류기 사용하여 모델 훈련"
   ]
  },
  {
   "cell_type": "markdown",
   "id": "42a2789d",
   "metadata": {
    "scrolled": true
   },
   "source": [
    "from sklearn.linear_model import SGDClassifier\n",
    "\n",
    "# Scikit-learn >= 1.3.0v인 경우 tol에 대한 값을 -np.infty 대신 1e-3으로 변경하라고 pdf에 있음.\n",
    "sgd_clf = SGDClassifier(max_iter=5, tol= 1e-3, random_state=42)\n",
    "sgd_clf.fit(X_train, y_train)"
   ]
  },
  {
   "cell_type": "markdown",
   "id": "3e99ae20",
   "metadata": {},
   "source": [
    "from sklearn.model_selection import cross_val_score\n",
    "\n",
    "SGDC_cross_val_score = cross_val_score(sgd_clf, X_train, y_train, cv=10, scoring=\"accuracy\")\n",
    "SGDC_cross_val_score"
   ]
  },
  {
   "cell_type": "markdown",
   "id": "fbab7ca6",
   "metadata": {},
   "source": [
    "SGDC_mean = np.mean(SGDC_cross_val_score)\n",
    "SGDC_mean"
   ]
  },
  {
   "cell_type": "markdown",
   "id": "4abb12d7",
   "metadata": {},
   "source": [
    "## SGDC에 대한 10회 CV 평균 정확도"
   ]
  },
  {
   "cell_type": "markdown",
   "id": "12a738aa",
   "metadata": {},
   "source": [
    "SGDC_result = f\"10회 CV 평균 정확도: {SGDC_mean*100:.5f} %\"\n",
    "SGDC_result"
   ]
  },
  {
   "cell_type": "markdown",
   "id": "9db2f576",
   "metadata": {},
   "source": [
    "## 오차 분석 방법: 오차 행렬"
   ]
  },
  {
   "cell_type": "markdown",
   "id": "0ef45fc7",
   "metadata": {},
   "source": [
    "from sklearn.model_selection import cross_val_predict\n",
    "from sklearn.metrics import confusion_matrix\n",
    "\n",
    "y_train_pred = cross_val_predict(sgd_clf, X_train, y_train, cv=10)\n",
    "conf_mx = confusion_matrix(y_train, y_train_pred)\n",
    "conf_mx"
   ]
  },
  {
   "cell_type": "markdown",
   "id": "393aa8d2",
   "metadata": {},
   "source": [
    "# To plot pretty figures\n",
    "%matplotlib inline\n",
    "import matplotlib as mpl\n",
    "import matplotlib.pyplot as plt\n",
    "mpl.rc('axes', labelsize=14)\n",
    "mpl.rc('xtick', labelsize=12)\n",
    "mpl.rc('ytick', labelsize=12)\n"
   ]
  },
  {
   "cell_type": "markdown",
   "id": "e6c583b5",
   "metadata": {},
   "source": [
    "plt.matshow(conf_mx, cmap=plt.cm.gray)\n",
    "plt.show()"
   ]
  },
  {
   "cell_type": "markdown",
   "id": "151340c9",
   "metadata": {},
   "source": [
    "row_sums = conf_mx.sum(axis=1, keepdims=True)\n",
    "norm_conf_mx = conf_mx / row_sums"
   ]
  },
  {
   "cell_type": "markdown",
   "id": "2036c3a3",
   "metadata": {},
   "source": [
    "np.fill_diagonal(norm_conf_mx, 0)\n",
    "plt.matshow(norm_conf_mx, cmap=plt.cm.gray)\n",
    "plt.show()"
   ]
  },
  {
   "cell_type": "markdown",
   "id": "d5bde2b0",
   "metadata": {},
   "source": [
    "# 위의 오차 행렬을 통해 8을 2로, 8을 5로, 3을 5로 잘못 예측한 정도가 크다는 것을 알 수 있음. 이외에도 잘못 예측한 사례가 더 있다."
   ]
  },
  {
   "cell_type": "markdown",
   "id": "8a028677",
   "metadata": {},
   "source": [
    "from sklearn.svm import SVC\n",
    "\n",
    "svm_clf = SVC(gamma=\"auto\", random_state=42)\n",
    "svm_clf.fit(X_train, y_train) # y_train, not y_train_5\n",
    "SVC_cross_val_score = cross_val_score(svm_clf, X_train, y_train, cv=10, scoring=\"accuracy\")\n",
    "SVC_cross_val_score"
   ]
  },
  {
   "cell_type": "markdown",
   "id": "6eceb203",
   "metadata": {},
   "source": [
    "SVC_mean = np.mean(SVC_cross_val_score)\n",
    "SVC_mean"
   ]
  },
  {
   "cell_type": "markdown",
   "id": "468bc4dc",
   "metadata": {},
   "source": [
    "## SVC에 대한 10회 CV 평균 정확도"
   ]
  },
  {
   "cell_type": "markdown",
   "id": "e8017815",
   "metadata": {},
   "source": [
    "SVC_result = f\"10회 CV 평균 정확도: {SVC_mean*100:.5f} %\"\n",
    "SVC_result"
   ]
  },
  {
   "cell_type": "markdown",
   "id": "7a0e34c5",
   "metadata": {},
   "source": [
    "## RandomForestClassifier 사용 (일반 훈련셋, min-max 훈련셋, 표준화 훈련셋 순서)"
   ]
  },
  {
   "cell_type": "markdown",
   "id": "d765e75a",
   "metadata": {},
   "source": [
    "from sklearn.ensemble import RandomForestClassifier\n",
    "\n",
    "forest_clf = RandomForestClassifier(n_estimators=20, random_state=100)\n",
    "forest_clf.fit(X_train, y_train)"
   ]
  },
  {
   "cell_type": "markdown",
   "id": "44270fd9",
   "metadata": {},
   "source": [
    "forest_clf_result = cross_val_score(forest_clf, X_train, y_train, cv=10, scoring=\"accuracy\")\n",
    "forest_clf_result"
   ]
  },
  {
   "cell_type": "markdown",
   "id": "4215e977",
   "metadata": {},
   "source": [
    "np.mean(forest_clf_result)"
   ]
  },
  {
   "cell_type": "markdown",
   "id": "cad469a6",
   "metadata": {
    "scrolled": true
   },
   "source": [
    "forest_clf2 = RandomForestClassifier(n_estimators=20, random_state=100)\n",
    "forest_clf2.fit(X_train_normalized, y_train)"
   ]
  },
  {
   "cell_type": "markdown",
   "id": "8f2a1fc2",
   "metadata": {},
   "source": [
    "forest_clf2_result = cross_val_score(forest_clf2, X_train_normalized, y_train, cv=10, scoring=\"accuracy\")\n",
    "forest_clf2_result"
   ]
  },
  {
   "cell_type": "markdown",
   "id": "d8d38556",
   "metadata": {},
   "source": [
    "np.mean(forest_clf2_result)"
   ]
  },
  {
   "cell_type": "markdown",
   "id": "8db5d4fa",
   "metadata": {},
   "source": [
    "forest_clf3 = RandomForestClassifier(n_estimators=20, random_state=100)\n",
    "forest_clf3.fit(X_train_standardized, y_train)"
   ]
  },
  {
   "cell_type": "markdown",
   "id": "ab32dc31",
   "metadata": {},
   "source": [
    "forest_clf_result3 = cross_val_score(forest_clf3, X_train_standardized, y_train, cv=10, scoring=\"accuracy\")\n",
    "forest_clf_result3"
   ]
  },
  {
   "cell_type": "markdown",
   "id": "dad7d71b",
   "metadata": {},
   "source": [
    "np.mean(forest_clf_result3)"
   ]
  },
  {
   "cell_type": "markdown",
   "id": "4998e58a",
   "metadata": {},
   "source": [
    "y_train_pred2 = cross_val_predict(forest_clf3, X_train_standardized, y_train, cv=10)\n",
    "conf_mx2 = confusion_matrix(y_train, y_train_pred)\n",
    "conf_mx2"
   ]
  },
  {
   "cell_type": "markdown",
   "id": "c70ef367",
   "metadata": {},
   "source": [
    "plt.matshow(conf_mx2, cmap=plt.cm.gray)\n",
    "plt.show()"
   ]
  },
  {
   "cell_type": "markdown",
   "id": "d1f55439",
   "metadata": {},
   "source": [
    "row_sums2 = conf_mx2.sum(axis=1, keepdims=True)\n",
    "norm_conf_mx2 = conf_mx2 / row_sums2"
   ]
  },
  {
   "cell_type": "markdown",
   "id": "60cdc219",
   "metadata": {},
   "source": [
    "np.fill_diagonal(norm_conf_mx2, 0)\n",
    "plt.matshow(norm_conf_mx2, cmap=plt.cm.gray)\n",
    "plt.show()"
   ]
  },
  {
   "cell_type": "markdown",
   "id": "6c7aa02b",
   "metadata": {},
   "source": [
    "## KNN"
   ]
  },
  {
   "cell_type": "markdown",
   "id": "de6e9198",
   "metadata": {},
   "source": [
    "from sklearn.neighbors import KNeighborsClassifier\n",
    "# KNN 모델 초기화 및 훈련\n",
    "knn = KNeighborsClassifier(n_neighbors=5)  # K 값은 5로 설정\n",
    "knn.fit(X_train, y_train)"
   ]
  },
  {
   "cell_type": "markdown",
   "id": "50065563",
   "metadata": {},
   "source": [
    "from sklearn.model_selection import cross_val_score\n",
    "\n",
    "knn_result = cross_val_score(knn, X_train, y_train, cv=10, scoring=\"accuracy\")\n",
    "knn_result"
   ]
  },
  {
   "cell_type": "markdown",
   "id": "07020955",
   "metadata": {},
   "source": [
    "np.mean(knn_result)"
   ]
  },
  {
   "cell_type": "markdown",
   "id": "4980245e",
   "metadata": {},
   "source": [
    "knn2 = KNeighborsClassifier(n_neighbors=3)  # K 값은 3로 설정\n",
    "knn2.fit(X_train, y_train)"
   ]
  },
  {
   "cell_type": "markdown",
   "id": "e74de664",
   "metadata": {},
   "source": [
    "knn_result2 = cross_val_score(knn2, X_train, y_train, cv=10, scoring=\"accuracy\")\n",
    "knn_result2"
   ]
  },
  {
   "cell_type": "markdown",
   "id": "8ba0a998",
   "metadata": {},
   "source": [
    "np.mean(knn_result2)"
   ]
  },
  {
   "cell_type": "markdown",
   "id": "1ca513e9",
   "metadata": {
    "scrolled": true
   },
   "source": [
    "knn3 = KNeighborsClassifier(n_neighbors=7)\n",
    "knn3.fit(X_train, y_train)"
   ]
  },
  {
   "cell_type": "markdown",
   "id": "cc16e201",
   "metadata": {},
   "source": [
    "knn_result3 = cross_val_score(knn3, X_train, y_train, cv=10, scoring=\"accuracy\")\n",
    "knn_result3"
   ]
  },
  {
   "cell_type": "markdown",
   "id": "4a08e42a",
   "metadata": {},
   "source": [
    "np.mean(knn_result3)"
   ]
  },
  {
   "cell_type": "markdown",
   "id": "c939e6dc",
   "metadata": {},
   "source": [
    "knn4 = KNeighborsClassifier(n_neighbors=10)\n",
    "knn4.fit(X_train, y_train)"
   ]
  },
  {
   "cell_type": "markdown",
   "id": "2b926011",
   "metadata": {},
   "source": [
    "knn_result4 = cross_val_score(knn4, X_train, y_train, cv=10, scoring=\"accuracy\")\n",
    "knn_result4"
   ]
  },
  {
   "cell_type": "markdown",
   "id": "79438ae7",
   "metadata": {},
   "source": [
    "np.mean(knn_result4)"
   ]
  },
  {
   "cell_type": "markdown",
   "id": "ed430e90",
   "metadata": {},
   "source": [
    "from sklearn.ensemble import RandomForestClassifier, GradientBoostingClassifier\n",
    "from sklearn.ensemble import VotingClassifier\n",
    "\n",
    "# 두 개의 분류기 정의\n",
    "rf_clf = RandomForestClassifier(n_estimators=100)\n",
    "gb_clf = GradientBoostingClassifier(n_estimators=100)\n",
    "\n",
    "# 앙상블을 위한 VotingClassifier 생성\n",
    "voting_clf = VotingClassifier(\n",
    "    estimators=[('random_forest', rf_clf), ('gradient_boosting', gb_clf)],\n",
    "    voting='soft'  # 예측을 평균화하는 방식 선택 (soft voting)\n",
    ")\n",
    "\n",
    "# VotingClassifier 모델 훈련\n",
    "voting_clf.fit(X_train, y_train)"
   ]
  },
  {
   "cell_type": "markdown",
   "id": "da464cfa",
   "metadata": {},
   "source": [
    "voting_clf_result = cross_val_score(voting_clf, X_train, y_train, cv=10, scoring=\"accuracy\")\n",
    "voting_clf_result"
   ]
  },
  {
   "cell_type": "markdown",
   "id": "310ba23d",
   "metadata": {},
   "source": [
    "np.mean(voting_clf_result)"
   ]
  },
  {
   "cell_type": "markdown",
   "id": "ce0ad506",
   "metadata": {},
   "source": [
    "from sklearn.ensemble import VotingClassifier\n",
    "from sklearn.svm import SVC\n",
    "from sklearn.ensemble import RandomForestClassifier\n",
    "from sklearn.model_selection import cross_val_score\n",
    "import numpy as np\n",
    "\n",
    "# 모델 정의\n",
    "forest_clf = RandomForestClassifier(n_estimators=100, max_depth=30, n_jobs=-1, random_state=0)\n",
    "poly_kernel_svm_clf = SVC(kernel=\"poly\", degree=3, coef0=1, C=100, gamma='auto', max_iter=-1, probability=True)\n",
    "\n",
    "# 앙상블 모델 생성\n",
    "voting_clf = VotingClassifier(estimators=[('fc', forest_clf), ('svc', poly_kernel_svm_clf)], voting='soft')\n",
    "\n",
    "# 교차 검증 수행\n",
    "cv_scores = cross_val_score(voting_clf, X_train, y_train, cv=10, scoring=\"accuracy\", n_jobs=4)\n",
    "\n",
    "# 각 폴드의 정확도 출력\n",
    "for i, score in enumerate(cv_scores, start=1):\n",
    "    print(f\"Cross Validation score {i}: {score}\")\n",
    "\n",
    "# 평균 정확도 출력\n",
    "print(f\"Cross Validation Mean is {np.mean(cv_scores)}\")\n"
   ]
  },
  {
   "cell_type": "markdown",
   "id": "af5d5333",
   "metadata": {},
   "source": [
    "from sklearn.ensemble import RandomForestClassifier, GradientBoostingClassifier\n",
    "from sklearn.ensemble import VotingClassifier\n",
    "\n",
    "# 두 개의 분류기 정의\n",
    "rf_clf = RandomForestClassifier(n_estimators=100)\n",
    "gb_clf = GradientBoostingClassifier(n_estimators=100)\n",
    "\n",
    "# 앙상블을 위한 VotingClassifier 생성\n",
    "voting_clf = VotingClassifier(\n",
    "    estimators=[('random_forest', rf_clf), ('gradient_boosting', gb_clf)],\n",
    "    voting='soft'  # 예측을 평균화하는 방식 선택 (soft voting)\n",
    ")\n",
    "\n",
    "# VotingClassifier 모델 훈련\n",
    "voting_clf.fit(X_train, y_train)\n",
    "\n",
    "voting_clf_result = cross_val_score(voting_clf, X_train, y_train, cv=10, scoring=\"accuracy\")\n",
    "voting_clf_result\n",
    "\n",
    "np.mean(voting_clf_result)"
   ]
  },
  {
   "cell_type": "markdown",
   "id": "42a7cd96",
   "metadata": {},
   "source": [
    "from sklearn.ensemble import VotingClassifier\n",
    "from sklearn.svm import SVC\n",
    "from sklearn.ensemble import RandomForestClassifier\n",
    "from sklearn.model_selection import cross_val_score\n",
    "import numpy as np\n",
    "\n",
    "# 모델 정의\n",
    "forest_clf = RandomForestClassifier(n_estimators=150, max_depth=30, n_jobs=-1, random_state=42)\n",
    "poly_kernel_svm_clf = SVC(kernel=\"poly\", degree=3, coef0=1, C=70, gamma='auto', max_iter=-1, probability=True)\n",
    "\n",
    "# 앙상블 모델 생성\n",
    "voting_clf = VotingClassifier(estimators=[('fc', forest_clf), ('svc', poly_kernel_svm_clf)], voting='soft')\n",
    "\n",
    "# 교차 검증 수행\n",
    "cv_scores = cross_val_score(voting_clf, X_train, y_train, cv=10, scoring=\"accuracy\", n_jobs=4)\n",
    "\n",
    "# 각 폴드의 정확도 출력\n",
    "for i, score in enumerate(cv_scores, start=1):\n",
    "    print(f\"Cross Validation score {i}: {score}\")\n",
    "\n",
    "# 평균 정확도 출력\n",
    "print(f\"Cross Validation Mean is {np.mean(cv_scores)}\")\n"
   ]
  },
  {
   "cell_type": "code",
   "execution_count": null,
   "id": "0f0f710c",
   "metadata": {},
   "outputs": [],
   "source": [
    "from sklearn.ensemble import ExtraTreesClassifier\n",
    "from sklearn.ensemble import VotingClassifier\n",
    "from sklearn.svm import SVC\n",
    "from sklearn.model_selection import cross_val_score\n",
    "import numpy as np\n",
    "import pandas as pd\n",
    "\n",
    "input_file = \"emnist-digits-train.csv\"\n",
    "df_train = pd.read_csv(input_file, header=None)\n",
    "\n",
    "data_train = df_train.to_numpy()\n",
    "\n",
    "X_train = data_train[:, 1:]\n",
    "y_train = data_train[:, 0]\n",
    "\n",
    "# 모델 정의\n",
    "extra_trees_clf = ExtraTreesClassifier(n_estimators=100, max_depth=30, n_jobs=-1, random_state=42)\n",
    "poly_kernel_svm_clf = SVC(kernel=\"poly\", degree=3, coef0=1, C=100, gamma='auto', max_iter=-1, probability=True)\n",
    "\n",
    "# 앙상블 모델 생성\n",
    "voting_clf = VotingClassifier(estimators=[('etc', extra_trees_clf), ('svc', poly_kernel_svm_clf)], voting='soft')\n",
    "\n",
    "# 교차 검증 수행\n",
    "cv_scores = cross_val_score(voting_clf, X_train, y_train, cv=10, scoring=\"accuracy\", n_jobs=-1)\n",
    "\n",
    "# 평균 정확도 출력\n",
    "print(f\"Cross Validation Mean is {np.mean(cv_scores)}\")\n"
   ]
  },
  {
   "cell_type": "markdown",
   "id": "1997f163",
   "metadata": {},
   "source": [
    "#"
   ]
  },
  {
   "cell_type": "markdown",
   "id": "bda6db9c",
   "metadata": {},
   "source": [
    "# 결과"
   ]
  },
  {
   "cell_type": "code",
   "execution_count": 10,
   "id": "42311852",
   "metadata": {},
   "outputs": [
    {
     "name": "stdout",
     "output_type": "stream",
     "text": [
      "Fold 1: 0.9901666666666666\n",
      "Fold 2: 0.989\n",
      "Fold 3: 0.9903333333333333\n",
      "Fold 4: 0.9905416666666667\n",
      "Fold 5: 0.9887916666666666\n",
      "Fold 6: 0.9909166666666667\n",
      "Fold 7: 0.99025\n",
      "Fold 8: 0.990875\n",
      "Fold 9: 0.9903333333333333\n",
      "Fold 10: 0.9894583333333333\n",
      "Cross Validation Mean is 0.9900666666666667\n"
     ]
    }
   ],
   "source": [
    "from sklearn.ensemble import ExtraTreesClassifier\n",
    "from sklearn.ensemble import VotingClassifier\n",
    "from sklearn.svm import SVC\n",
    "from sklearn.model_selection import cross_val_score\n",
    "import numpy as np\n",
    "import pandas as pd\n",
    "\n",
    "input_file = \"emnist-digits-train.csv\"\n",
    "df_train = pd.read_csv(input_file, header=None)\n",
    "\n",
    "data_train = df_train.to_numpy()\n",
    "\n",
    "X_train = data_train[:, 1:]\n",
    "y_train = data_train[:, 0]\n",
    "\n",
    "# 모델 정의\n",
    "extra_tree_clf = ExtraTreesClassifier(n_estimators=100, max_depth=30, n_jobs=-1, random_state=42)\n",
    "svm_clf = SVC(kernel=\"poly\", degree=3, coef0=1, C=100, gamma='auto', max_iter=-1, probability=True)\n",
    "\n",
    "# 앙상블 모델 생성\n",
    "voting_clf = VotingClassifier(estimators=[('etc', extra_tree_clf), ('svc', svm_clf)], voting='soft')\n",
    "\n",
    "# 교차 검증 수행\n",
    "cv_scores = cross_val_score(voting_clf, X_train, y_train, cv=10, scoring=\"accuracy\", n_jobs=-1)\n",
    "\n",
    "# 각 폴드의 정확도 출력\n",
    "for i, score in enumerate(cv_scores, start=1):\n",
    "    print(f\"Fold {i}: {score}\")\n",
    "\n",
    "# 평균 정확도 출력\n",
    "print(f\"Cross Validation Mean is {np.mean(cv_scores)}\")\n"
   ]
  },
  {
   "cell_type": "code",
   "execution_count": null,
   "id": "5c4e2951",
   "metadata": {},
   "outputs": [],
   "source": []
  }
 ],
 "metadata": {
  "kernelspec": {
   "display_name": "Python 3 (ipykernel)",
   "language": "python",
   "name": "python3"
  },
  "language_info": {
   "codemirror_mode": {
    "name": "ipython",
    "version": 3
   },
   "file_extension": ".py",
   "mimetype": "text/x-python",
   "name": "python",
   "nbconvert_exporter": "python",
   "pygments_lexer": "ipython3",
   "version": "3.11.5"
  }
 },
 "nbformat": 4,
 "nbformat_minor": 5
}
