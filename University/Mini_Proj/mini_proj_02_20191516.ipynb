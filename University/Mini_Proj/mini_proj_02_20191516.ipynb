{
 "cells": [
  {
   "cell_type": "markdown",
   "id": "83a969fd",
   "metadata": {},
   "source": [
    "# 미니 프로젝트 2 시작"
   ]
  },
  {
   "cell_type": "markdown",
   "id": "03a31e2e",
   "metadata": {},
   "source": [
    "# "
   ]
  },
  {
   "cell_type": "markdown",
   "id": "ad0c06f5",
   "metadata": {
    "colab": {
     "base_uri": "https://localhost:8080/"
    },
    "executionInfo": {
     "elapsed": 4554,
     "status": "ok",
     "timestamp": 1700173462498,
     "user": {
      "displayName": "문승기",
      "userId": "14661476371360042287"
     },
     "user_tz": -540
    },
    "id": "068d53ed",
    "outputId": "824a0eda-7ca5-463a-bd87-37d64a0776e0"
   },
   "source": [
    "import numpy as np\n",
    "import pandas as pd\n",
    "\n",
    "## df로 X_train 1~3 생성, df2로 X_train4 생성\n",
    "input_file = \"/content/drive/MyDrive/Colab Notebooks/mini_proj_02_20191516/train.csv\"\n",
    "df = pd.read_csv(input_file, header=None)\n",
    "df2 = pd.read_csv(input_file, header=None)"
   ]
  },
  {
   "cell_type": "markdown",
   "id": "cace88b8",
   "metadata": {},
   "source": [
    "import numpy as np\n",
    "import pandas as pd\n",
    "\n",
    "## df로 X_train 1~3 생성, df2로 X_train4 생성\n",
    "input_file = \"train.csv\"\n",
    "df = pd.read_csv(input_file, header=None)\n",
    "df2 = pd.read_csv(input_file, header=None)"
   ]
  },
  {
   "cell_type": "markdown",
   "id": "57835d0f",
   "metadata": {
    "colab": {
     "base_uri": "https://localhost:8080/",
     "height": 461
    },
    "executionInfo": {
     "elapsed": 4,
     "status": "ok",
     "timestamp": 1700036584192,
     "user": {
      "displayName": "문승기",
      "userId": "14661476371360042287"
     },
     "user_tz": -540
    },
    "id": "5b14e5ba",
    "outputId": "00906704-8ba2-4c69-8b43-08a4946ee0ce",
    "scrolled": true
   },
   "source": [
    "df"
   ]
  },
  {
   "cell_type": "markdown",
   "id": "a23a0d9b",
   "metadata": {
    "colab": {
     "base_uri": "https://localhost:8080/",
     "height": 461
    },
    "executionInfo": {
     "elapsed": 1310,
     "status": "ok",
     "timestamp": 1700036588622,
     "user": {
      "displayName": "문승기",
      "userId": "14661476371360042287"
     },
     "user_tz": -540
    },
    "id": "5LnOLgZcE6Yn",
    "outputId": "b024dc39-f53b-4bb8-bfc4-8c0bd0d9f03f"
   },
   "source": [
    "df2"
   ]
  },
  {
   "cell_type": "markdown",
   "id": "9b8adbf7",
   "metadata": {
    "colab": {
     "base_uri": "https://localhost:8080/"
    },
    "executionInfo": {
     "elapsed": 1172,
     "status": "ok",
     "timestamp": 1700035263315,
     "user": {
      "displayName": "문승기",
      "userId": "14661476371360042287"
     },
     "user_tz": -540
    },
    "id": "f538ddde",
    "outputId": "49d88971-f706-4173-c3e2-57a8f364dc93",
    "scrolled": false
   },
   "source": [
    "print(df.info())\n",
    "print(df2.info())"
   ]
  },
  {
   "cell_type": "markdown",
   "id": "K0DXBqWJXBSP",
   "metadata": {
    "id": "K0DXBqWJXBSP"
   },
   "source": [
    "## df 데이터프레임에 새로운 열을 2개 만들어서 그 열에 mean()-X. 즉, 0번째 열의 최솟값과 최댓값으로 채울것이다."
   ]
  },
  {
   "cell_type": "markdown",
   "id": "ea7a8e23",
   "metadata": {
    "colab": {
     "base_uri": "https://localhost:8080/",
     "height": 552
    },
    "executionInfo": {
     "elapsed": 10,
     "status": "ok",
     "timestamp": 1700173462498,
     "user": {
      "displayName": "문승기",
      "userId": "14661476371360042287"
     },
     "user_tz": -540
    },
    "id": "kGCIWtroXMSP",
    "outputId": "047655f8-1cb4-4f71-efb8-496f33b6b108"
   },
   "source": [
    "## object 타입의 열을 float 타입으로 변환\n",
    "df.iloc[:, 0] = pd.to_numeric(df.iloc[:, 0], errors='coerce')\n",
    "print(df.iloc[:, 0].dtype)\n",
    "\n",
    "min_value = df.iloc[:, 0].min()\n",
    "max_value = df.iloc[:, 0].max()\n",
    "\n",
    "print(min_value)\n",
    "print(max_value)\n",
    "\n",
    "## 평균을 구해서 새로운 열을 전부 채움\n",
    "df['563'] = min_value\n",
    "df['564'] = max_value\n",
    "df"
   ]
  },
  {
   "cell_type": "markdown",
   "id": "323b0ae1",
   "metadata": {
    "colab": {
     "base_uri": "https://localhost:8080/",
     "height": 497
    },
    "executionInfo": {
     "elapsed": 7,
     "status": "ok",
     "timestamp": 1700173462498,
     "user": {
      "displayName": "문승기",
      "userId": "14661476371360042287"
     },
     "user_tz": -540
    },
    "id": "EltwKx1pbXkN",
    "outputId": "99b127d0-8ec4-4fe6-8c27-20f3fbba90f9"
   },
   "source": [
    "## 레이블 열이 제일 뒤로 오도록 자리를 바꿈\n",
    "df.iloc[:, [562, 563, 564]] = df.iloc[:, [563, 564, 562]].values\n",
    "df"
   ]
  },
  {
   "cell_type": "markdown",
   "id": "0774703d",
   "metadata": {
    "id": "0774703d"
   },
   "source": [
    "## df_train : 모든 열이 그대로 있고, 첫 행만 삭제 / df_train2 : 피실험자 ID 열 삭제, 첫 행 삭제 / df_train3 : 피실험자 ID 열 삭제, 첫 행 삭제, 0번째 열의 최솟값 열, 최댓값 열 추가"
   ]
  },
  {
   "cell_type": "markdown",
   "id": "fcd0b57a",
   "metadata": {
    "colab": {
     "base_uri": "https://localhost:8080/",
     "height": 443
    },
    "executionInfo": {
     "elapsed": 639,
     "status": "ok",
     "timestamp": 1700173463132,
     "user": {
      "displayName": "문승기",
      "userId": "14661476371360042287"
     },
     "user_tz": -540
    },
    "id": "ff9f5a55",
    "outputId": "daaa5f9b-239c-4618-9be0-18d3d7952f38"
   },
   "source": [
    "df_train = df.drop(df.index[0])\n",
    "df_train"
   ]
  },
  {
   "cell_type": "markdown",
   "id": "32736280",
   "metadata": {
    "colab": {
     "base_uri": "https://localhost:8080/",
     "height": 443
    },
    "executionInfo": {
     "elapsed": 6,
     "status": "ok",
     "timestamp": 1700173463132,
     "user": {
      "displayName": "문승기",
      "userId": "14661476371360042287"
     },
     "user_tz": -540
    },
    "id": "195404ef",
    "outputId": "602c9695-9515-4fba-fa88-5c0195c138bf"
   },
   "source": [
    "df = df.drop(df.index[0])\n",
    "df_train2 = df.drop(df.columns[[561, 562, 563]], axis=1)\n",
    "df_train2"
   ]
  },
  {
   "cell_type": "markdown",
   "id": "4c216823",
   "metadata": {
    "colab": {
     "base_uri": "https://localhost:8080/",
     "height": 443
    },
    "executionInfo": {
     "elapsed": 7,
     "status": "ok",
     "timestamp": 1700173463133,
     "user": {
      "displayName": "문승기",
      "userId": "14661476371360042287"
     },
     "user_tz": -540
    },
    "id": "KSNhemU0coOp",
    "outputId": "fcf13e6a-c7ce-48cd-8245-70dd152ae99b"
   },
   "source": [
    "df = df.drop(df.index[0])\n",
    "df_train3 = df.drop(df.columns[561], axis=1)\n",
    "df_train3"
   ]
  },
  {
   "cell_type": "markdown",
   "id": "2062e2d0",
   "metadata": {
    "id": "2062e2d0"
   },
   "source": [
    "## data_train : df_train로 만든 array 배열 / data_train2 : df_train2로 만든 array 배열 / data_train3 : df_train3로 만든 array 배열"
   ]
  },
  {
   "cell_type": "markdown",
   "id": "7f5c6dd0",
   "metadata": {
    "colab": {
     "base_uri": "https://localhost:8080/"
    },
    "executionInfo": {
     "elapsed": 781,
     "status": "ok",
     "timestamp": 1700173466276,
     "user": {
      "displayName": "문승기",
      "userId": "14661476371360042287"
     },
     "user_tz": -540
    },
    "id": "3211ec81",
    "outputId": "ea41d5b1-5b9a-45d4-ca9d-23326fbefd71"
   },
   "source": [
    "data_train = df_train.to_numpy()\n",
    "print(data_train)\n",
    "\n",
    "data_train2 = df_train2.to_numpy()\n",
    "print(data_train2)\n",
    "\n",
    "data_train3 = df_train3.to_numpy()\n",
    "print(data_train3)"
   ]
  },
  {
   "cell_type": "markdown",
   "id": "915f4796",
   "metadata": {
    "colab": {
     "base_uri": "https://localhost:8080/"
    },
    "executionInfo": {
     "elapsed": 3,
     "status": "ok",
     "timestamp": 1700131798287,
     "user": {
      "displayName": "문승기",
      "userId": "14661476371360042287"
     },
     "user_tz": -540
    },
    "id": "d16a1a9e",
    "outputId": "46b2a6b6-9df6-491d-99a5-bcd6d573c9b7"
   },
   "source": [
    "print(data_train.shape)\n",
    "print(data_train2.shape)\n",
    "print(data_train3.shape)"
   ]
  },
  {
   "cell_type": "markdown",
   "id": "8cf6f2c9",
   "metadata": {
    "colab": {
     "base_uri": "https://localhost:8080/"
    },
    "executionInfo": {
     "elapsed": 2,
     "status": "ok",
     "timestamp": 1700173468327,
     "user": {
      "displayName": "문승기",
      "userId": "14661476371360042287"
     },
     "user_tz": -540
    },
    "id": "b4d3cc22",
    "outputId": "1e4422e3-4dfb-4ea7-855a-e68bcfbb3d9f"
   },
   "source": [
    "X_train = data_train[:, :562]\n",
    "X_train2 = data_train2[:, :561]\n",
    "X_train3 = data_train3[:, :563]\n",
    "print(X_train, \"\\n-----------------------------------------------------------------------\")\n",
    "print(X_train2, \"\\n-----------------------------------------------------------------------\")\n",
    "print(X_train3)"
   ]
  },
  {
   "cell_type": "markdown",
   "id": "e302688d",
   "metadata": {
    "colab": {
     "base_uri": "https://localhost:8080/"
    },
    "executionInfo": {
     "elapsed": 3,
     "status": "ok",
     "timestamp": 1700173470719,
     "user": {
      "displayName": "문승기",
      "userId": "14661476371360042287"
     },
     "user_tz": -540
    },
    "id": "0ef0d581",
    "outputId": "fc9a3f05-7c66-4a08-920a-5069b7ad0a6e"
   },
   "source": [
    "y_train = data_train[:, 564]\n",
    "y_train2 = data_train2[:, 561]\n",
    "y_train3 = data_train3[:, 563]\n",
    "print(y_train, \"\\n-----------------------------------------------------------\")\n",
    "print(y_train2, \"\\n-----------------------------------------------------------\")\n",
    "print(y_train3)"
   ]
  },
  {
   "cell_type": "markdown",
   "id": "NRdnPt-UuawH",
   "metadata": {
    "id": "NRdnPt-UuawH"
   },
   "source": [
    "## X_train, X_train2, X_train3 각각을 표준화"
   ]
  },
  {
   "cell_type": "markdown",
   "id": "5062c0b9",
   "metadata": {
    "colab": {
     "base_uri": "https://localhost:8080/"
    },
    "executionInfo": {
     "elapsed": 3839,
     "status": "ok",
     "timestamp": 1700173476074,
     "user": {
      "displayName": "문승기",
      "userId": "14661476371360042287"
     },
     "user_tz": -540
    },
    "id": "QuQFXUXAuYRT",
    "outputId": "520772d2-9076-4aaa-a139-096d1a76b60d"
   },
   "source": [
    "## 표준화\n",
    "from sklearn.preprocessing import StandardScaler\n",
    "\n",
    "scaler = StandardScaler()\n",
    "X_train_standardized = scaler.fit_transform(X_train)\n",
    "print(X_train_standardized)\n",
    "\n",
    "X_train_standardized2 = scaler.fit_transform(X_train2)\n",
    "print(X_train_standardized2)\n",
    "\n",
    "X_train_standardized3 = scaler.fit_transform(X_train3)\n",
    "print(X_train_standardized3)"
   ]
  },
  {
   "cell_type": "markdown",
   "id": "DNbSv12OACWG",
   "metadata": {
    "id": "DNbSv12OACWG"
   },
   "source": [
    "## df2 데이터프레임에 0~561번째 열까지 각각의 열마다의 중간값을 구해서 새로운 특성들로 추가"
   ]
  },
  {
   "cell_type": "markdown",
   "id": "452ffb3d",
   "metadata": {
    "colab": {
     "base_uri": "https://localhost:8080/",
     "height": 461
    },
    "executionInfo": {
     "elapsed": 487,
     "status": "ok",
     "timestamp": 1700036597449,
     "user": {
      "displayName": "문승기",
      "userId": "14661476371360042287"
     },
     "user_tz": -540
    },
    "id": "Y4X7i_ASAB9d",
    "outputId": "d6435c61-7c50-4612-a653-baa8e4c2f631"
   },
   "source": [
    "df2"
   ]
  },
  {
   "cell_type": "markdown",
   "id": "b3de8779",
   "metadata": {
    "colab": {
     "base_uri": "https://localhost:8080/",
     "height": 443
    },
    "executionInfo": {
     "elapsed": 350,
     "status": "ok",
     "timestamp": 1700173476421,
     "user": {
      "displayName": "문승기",
      "userId": "14661476371360042287"
     },
     "user_tz": -540
    },
    "id": "OiNa5aMEAuFc",
    "outputId": "be792585-5669-495b-96d3-86e52bea35ea"
   },
   "source": [
    "df2 = df2[[df2.columns[562]] + list(df2.columns[:562]) + list(df2.columns[563:])]\n",
    "df2 = df2.drop(df2.index[0])\n",
    "df_train4 = df2.drop(df2.columns[562], axis=1)\n",
    "df_train4"
   ]
  },
  {
   "cell_type": "markdown",
   "id": "18799167",
   "metadata": {
    "colab": {
     "base_uri": "https://localhost:8080/"
    },
    "executionInfo": {
     "elapsed": 1984,
     "status": "ok",
     "timestamp": 1700173479898,
     "user": {
      "displayName": "문승기",
      "userId": "14661476371360042287"
     },
     "user_tz": -540
    },
    "id": "apI8gV4FDRqB",
    "outputId": "6ace175e-0b7d-41f8-d59e-7ed5e17e8934"
   },
   "source": [
    "## 1~561열까지 중간값을 구해서 새로운 열로 추가\n",
    "for i in range(1, 562):\n",
    "    median_col = df_train4.iloc[:, i].median()\n",
    "    new_col_name = f'col_{i}_median'\n",
    "    df_train4[new_col_name] = median_col"
   ]
  },
  {
   "cell_type": "markdown",
   "id": "b0265223",
   "metadata": {
    "colab": {
     "base_uri": "https://localhost:8080/",
     "height": 443
    },
    "executionInfo": {
     "elapsed": 895,
     "status": "ok",
     "timestamp": 1700037600370,
     "user": {
      "displayName": "문승기",
      "userId": "14661476371360042287"
     },
     "user_tz": -540
    },
    "id": "XP2fO6Q7ALs0",
    "outputId": "8834d4f4-cd8e-4a11-d4a9-e80d5b8ac6de"
   },
   "source": [
    "df_train4"
   ]
  },
  {
   "cell_type": "markdown",
   "id": "a44e1da4",
   "metadata": {
    "colab": {
     "base_uri": "https://localhost:8080/"
    },
    "executionInfo": {
     "elapsed": 6,
     "status": "ok",
     "timestamp": 1700037800609,
     "user": {
      "displayName": "문승기",
      "userId": "14661476371360042287"
     },
     "user_tz": -540
    },
    "id": "nTRlq-fTJUSr",
    "outputId": "45247ccc-492e-4483-db2a-9aa6e422694a"
   },
   "source": [
    "df_train4.shape"
   ]
  },
  {
   "cell_type": "markdown",
   "id": "S_k7MfMhH7cj",
   "metadata": {
    "id": "S_k7MfMhH7cj"
   },
   "source": [
    "## 첫 행과 피실험자 ID 열을 제외했고, 레이블 열을 0번째 열로 옮겼으며 새로운 특성들을 추가함. -> df_train4"
   ]
  },
  {
   "cell_type": "markdown",
   "id": "076a5aa2",
   "metadata": {
    "colab": {
     "base_uri": "https://localhost:8080/"
    },
    "executionInfo": {
     "elapsed": 659,
     "status": "ok",
     "timestamp": 1700173483340,
     "user": {
      "displayName": "문승기",
      "userId": "14661476371360042287"
     },
     "user_tz": -540
    },
    "id": "80xbPOYhJIDE",
    "outputId": "863aec45-15c4-463d-d83f-257c6bde516a"
   },
   "source": [
    "data_train4 = df_train4.to_numpy()\n",
    "data_train4"
   ]
  },
  {
   "cell_type": "markdown",
   "id": "a54d2e37",
   "metadata": {
    "colab": {
     "base_uri": "https://localhost:8080/"
    },
    "executionInfo": {
     "elapsed": 345,
     "status": "ok",
     "timestamp": 1700173485054,
     "user": {
      "displayName": "문승기",
      "userId": "14661476371360042287"
     },
     "user_tz": -540
    },
    "id": "lFqXkS2cJoJQ",
    "outputId": "49681eb5-5cbc-4c2e-94a4-cf5a81409ed4"
   },
   "source": [
    "X_train4 = data_train4[:, 1:1123]\n",
    "y_train4 = data_train4[:, 0]\n",
    "\n",
    "print(X_train4)\n",
    "print(y_train4)"
   ]
  },
  {
   "cell_type": "markdown",
   "id": "aa66a368",
   "metadata": {
    "colab": {
     "base_uri": "https://localhost:8080/"
    },
    "executionInfo": {
     "elapsed": 753,
     "status": "ok",
     "timestamp": 1700173487933,
     "user": {
      "displayName": "문승기",
      "userId": "14661476371360042287"
     },
     "user_tz": -540
    },
    "id": "iRSPGgfoH6He",
    "outputId": "964e0154-e8f2-4e79-86ee-fc3d02af8bec"
   },
   "source": [
    "## 표준화\n",
    "from sklearn.preprocessing import StandardScaler\n",
    "\n",
    "X_train_standardized4 = scaler.fit_transform(X_train4)\n",
    "print(X_train_standardized4)"
   ]
  },
  {
   "cell_type": "markdown",
   "id": "3f17faef",
   "metadata": {
    "id": "3f17faef"
   },
   "source": [
    "## y_train을 원핫 인코딩 함"
   ]
  },
  {
   "cell_type": "markdown",
   "id": "2377e8d6",
   "metadata": {
    "executionInfo": {
     "elapsed": 401,
     "status": "ok",
     "timestamp": 1700173498429,
     "user": {
      "displayName": "문승기",
      "userId": "14661476371360042287"
     },
     "user_tz": -540
    },
    "id": "996a9dbb"
   },
   "source": [
    "from sklearn.preprocessing import OneHotEncoder\n",
    "\n",
    "# OneHotEncoder를 초기화합니다.\n",
    "encoder = OneHotEncoder()\n",
    "\n",
    "# y_train을 One-hot 인코딩합니다.\n",
    "y_train_onehot = encoder.fit_transform(y_train.reshape(-1, 1)).toarray()"
   ]
  },
  {
   "cell_type": "markdown",
   "id": "8222d3c5",
   "metadata": {
    "id": "8222d3c5"
   },
   "source": [
    "## RandomForestClassifier"
   ]
  },
  {
   "cell_type": "markdown",
   "id": "d2b3e7e5",
   "metadata": {
    "id": "7f954c8e",
    "outputId": "4931f13c-8c8a-4c91-a003-7141c29d97cb"
   },
   "source": [
    "from sklearn.ensemble import RandomForestClassifier\n",
    "\n",
    "forest_clf = RandomForestClassifier(n_estimators=10, random_state=42)\n",
    "forest_clf.fit(X_train, y_train)"
   ]
  },
  {
   "cell_type": "markdown",
   "id": "7702543c",
   "metadata": {
    "id": "38e4e40e",
    "outputId": "a54080bc-5cde-4134-ae6a-b8aa7a1ee5ac"
   },
   "source": [
    "from sklearn.model_selection import cross_val_score\n",
    "\n",
    "forest_clf_result = cross_val_score(forest_clf, X_train, y_train, cv=10, scoring=\"accuracy\")\n",
    "forest_clf_result"
   ]
  },
  {
   "cell_type": "markdown",
   "id": "7a7b7570",
   "metadata": {
    "id": "c48be078",
    "outputId": "08c09bc8-eb40-4018-b541-f6c09fa7f787"
   },
   "source": [
    "np.mean(forest_clf_result)"
   ]
  },
  {
   "cell_type": "markdown",
   "id": "2a664fd4",
   "metadata": {
    "id": "2a664fd4"
   },
   "source": [
    "### n_estimators=15, random_state=42"
   ]
  },
  {
   "cell_type": "markdown",
   "id": "43135181",
   "metadata": {
    "id": "29f0f706",
    "outputId": "eaa94a3a-1471-4a13-b030-10e7ba6372d4"
   },
   "source": [
    "forest_clf2 = RandomForestClassifier(n_estimators=15, random_state=42)\n",
    "forest_clf2.fit(X_train, y_train)"
   ]
  },
  {
   "cell_type": "markdown",
   "id": "20494f8d",
   "metadata": {
    "id": "a83f372b",
    "outputId": "36805ef7-c8d7-4fe3-e003-af0ce1eba296"
   },
   "source": [
    "forest_clf_result2 = cross_val_score(forest_clf2, X_train, y_train, cv=10, scoring=\"accuracy\")\n",
    "forest_clf_result2"
   ]
  },
  {
   "cell_type": "markdown",
   "id": "bf3eadee",
   "metadata": {
    "id": "864fd7e0",
    "outputId": "9e37472c-38bd-41d4-9969-c18aaa53be25"
   },
   "source": [
    "np.mean(forest_clf_result2)"
   ]
  },
  {
   "cell_type": "markdown",
   "id": "22ef0104",
   "metadata": {
    "id": "22ef0104"
   },
   "source": [
    "### n_estimators=20, random_state=100"
   ]
  },
  {
   "cell_type": "markdown",
   "id": "d324c27a",
   "metadata": {
    "id": "88c18baf",
    "outputId": "cf3bb79d-71dc-47d3-81a7-74c582cebb64"
   },
   "source": [
    "forest_clf3 = RandomForestClassifier(n_estimators=20, random_state=100)\n",
    "forest_clf3.fit(X_train, y_train)"
   ]
  },
  {
   "cell_type": "markdown",
   "id": "a5949d83",
   "metadata": {
    "id": "c922ce1b",
    "outputId": "42bd03c5-e97d-4064-9395-234bfba35813"
   },
   "source": [
    "forest_clf_result3 = cross_val_score(forest_clf3, X_train, y_train, cv=10, scoring=\"accuracy\")\n",
    "forest_clf_result3"
   ]
  },
  {
   "cell_type": "markdown",
   "id": "40e992c6",
   "metadata": {
    "id": "805eefad",
    "outputId": "19759cf7-27b1-4a3a-8a03-fdb93412fda9"
   },
   "source": [
    "np.mean(forest_clf_result3)"
   ]
  },
  {
   "cell_type": "markdown",
   "id": "96020881",
   "metadata": {
    "id": "96020881"
   },
   "source": [
    "## SGDC"
   ]
  },
  {
   "cell_type": "markdown",
   "id": "edf79561",
   "metadata": {
    "id": "11f140db",
    "outputId": "ec320cbb-b6b3-4954-bfe7-107789e43ab2"
   },
   "source": [
    "from sklearn.linear_model import SGDClassifier\n",
    "\n",
    "sgd_clf =  SGDClassifier(max_iter=30, tol=1e-3, random_state=42)\n",
    "sgd_clf.fit(X_train, y_train)"
   ]
  },
  {
   "cell_type": "markdown",
   "id": "5e819faf",
   "metadata": {
    "id": "88d38f14",
    "outputId": "69e5d7e1-247d-486e-a327-9eb839a54cfa"
   },
   "source": [
    "sgd_clf_result = cross_val_score(sgd_clf, X_train, y_train, cv=10, scoring=\"accuracy\")\n",
    "sgd_clf_result"
   ]
  },
  {
   "cell_type": "markdown",
   "id": "1a4af882",
   "metadata": {
    "id": "0acdbc92",
    "outputId": "79bb72d2-95cc-49c9-b7d3-4f35ef7cf622"
   },
   "source": [
    "np.mean(sgd_clf_result)"
   ]
  },
  {
   "cell_type": "markdown",
   "id": "3a926c0e",
   "metadata": {
    "id": "3a926c0e"
   },
   "source": [
    "## 로지스틱 회귀로 다중클래스 분류"
   ]
  },
  {
   "cell_type": "markdown",
   "id": "5f5de48a",
   "metadata": {
    "id": "53ab8e51",
    "scrolled": true
   },
   "source": [
    "from sklearn.linear_model import LogisticRegression\n",
    "from sklearn.preprocessing import LabelEncoder\n",
    "\n",
    "# 다중 클래스 분류를 위한 Logistic Regression 모델을 초기화합니다.\n",
    "log_reg = LogisticRegression(multi_class='ovr', solver='liblinear', max_iter=5000)\n",
    "\n",
    "# 모델을 훈련 데이터에 맞춥니다.\n",
    "log_reg.fit(X_train, y_train)"
   ]
  },
  {
   "cell_type": "markdown",
   "id": "76b3b11f",
   "metadata": {
    "id": "711a92f7",
    "scrolled": true
   },
   "source": [
    "log_reg_result = cross_val_score(log_reg, X_train, y_train, cv=10, scoring=\"accuracy\")\n",
    "log_reg_result"
   ]
  },
  {
   "cell_type": "markdown",
   "id": "993eb6a5",
   "metadata": {
    "id": "f7b0ec30"
   },
   "source": [
    "np.mean(log_reg_result)"
   ]
  },
  {
   "cell_type": "markdown",
   "id": "5587d76d",
   "metadata": {
    "id": "5587d76d"
   },
   "source": [
    "## 로지스틱 회귀를 사용하되 최적의 파라미터 값을 구하여 적용"
   ]
  },
  {
   "cell_type": "markdown",
   "id": "a07bb9c4",
   "metadata": {
    "id": "00f4eb04",
    "outputId": "89b702fe-2307-45f6-8f97-7846a6608862"
   },
   "source": [
    "from sklearn.model_selection import GridSearchCV\n",
    "\n",
    "param_grid = {\n",
    "    'C': [0.1, 1.0, 10.0],  # C 값의 후보 리스트\n",
    "    'solver': ['liblinear', 'newton-cg', 'lbfgs']  # solver 후보 리스트\n",
    "}\n",
    "\n",
    "grid_search = GridSearchCV(LogisticRegression(max_iter=1000), param_grid, cv=5)\n",
    "grid_search.fit(X_train, y_train)\n",
    "\n",
    "best_params = grid_search.best_params_\n",
    "best_model = grid_search.best_estimator_\n",
    "print(best_params, \"\\n\", best_model)"
   ]
  },
  {
   "cell_type": "markdown",
   "id": "35526e9c",
   "metadata": {
    "id": "02628988",
    "outputId": "2aba654e-71b3-40d6-8e9d-7c7bd8e3523b"
   },
   "source": [
    "# 새로운 모델을 최적의 매개변수로 초기화합니다.\n",
    "new_log_reg = LogisticRegression(max_iter=1000, **best_params)\n",
    "\n",
    "# 전체 훈련 데이터로 모델을 다시 훈련시킵니다.\n",
    "new_log_reg.fit(X_train, y_train)"
   ]
  },
  {
   "cell_type": "markdown",
   "id": "25ba70e5",
   "metadata": {
    "id": "b5d16299",
    "outputId": "d2274d9d-214e-45a4-ad8c-eed580090456"
   },
   "source": [
    "new_log_reg_result = cross_val_score(new_log_reg, X_train, y_train, cv=10, scoring=\"accuracy\")\n",
    "new_log_reg_result"
   ]
  },
  {
   "cell_type": "markdown",
   "id": "60b22e32",
   "metadata": {
    "id": "e9d9e2d0",
    "outputId": "2bf94c05-5f12-4a08-82d9-ea89f688a324"
   },
   "source": [
    "np.mean(new_log_reg_result)"
   ]
  },
  {
   "cell_type": "markdown",
   "id": "559efa4e",
   "metadata": {
    "id": "559efa4e"
   },
   "source": [
    "## Gradient Boosting"
   ]
  },
  {
   "cell_type": "markdown",
   "id": "20aaf997",
   "metadata": {
    "id": "570de506",
    "outputId": "7c228290-d93f-4eed-d4d2-d053af2355e3"
   },
   "source": [
    "from sklearn.ensemble import GradientBoostingClassifier\n",
    "\n",
    "# Gradient Boosting 모델 초기화\n",
    "gradient_boosting = GradientBoostingClassifier()\n",
    "\n",
    "# 모델 훈련\n",
    "gradient_boosting.fit(X_train, y_train)"
   ]
  },
  {
   "cell_type": "markdown",
   "id": "06bda42e",
   "metadata": {
    "id": "1a70190a"
   },
   "source": [
    "gradient_boosting_result = cross_val_score(gradient_boosting, X_train, y_train, cv=10, scoring=\"accuracy\")\n",
    "gradient_boosting_result"
   ]
  },
  {
   "cell_type": "markdown",
   "id": "fa3a578c",
   "metadata": {
    "id": "c2d1da8a"
   },
   "source": [
    "np.mean(gradient_boosting_result)"
   ]
  },
  {
   "cell_type": "markdown",
   "id": "66741c45",
   "metadata": {
    "id": "66741c45"
   },
   "source": [
    "## SVC"
   ]
  },
  {
   "cell_type": "markdown",
   "id": "d9c05586",
   "metadata": {
    "id": "7c023bc7"
   },
   "source": [
    "from sklearn.svm import SVC\n",
    "\n",
    "svm_clf = SVC(gamma=\"auto\", random_state=42)\n",
    "svm_clf.fit(X_train, y_train)"
   ]
  },
  {
   "cell_type": "markdown",
   "id": "b3f9a88d",
   "metadata": {
    "id": "c4bb6a66"
   },
   "source": [
    "svm_clf_result = cross_val_score(svm_clf, X_train, y_train, cv=10, scoring=\"accuracy\")\n",
    "svm_clf_result"
   ]
  },
  {
   "cell_type": "markdown",
   "id": "ef3fc15a",
   "metadata": {
    "id": "97daab62"
   },
   "source": [
    "np.mean(svm_clf_result)"
   ]
  },
  {
   "cell_type": "markdown",
   "id": "XeJWd0dIupdv",
   "metadata": {
    "id": "XeJWd0dIupdv"
   },
   "source": [
    "## 96.055 % 달성"
   ]
  },
  {
   "cell_type": "markdown",
   "id": "090f6f26",
   "metadata": {
    "colab": {
     "base_uri": "https://localhost:8080/"
    },
    "executionInfo": {
     "elapsed": 908106,
     "status": "ok",
     "timestamp": 1700023009858,
     "user": {
      "displayName": "문승기",
      "userId": "14661476371360042287"
     },
     "user_tz": -540
    },
    "id": "7737b6ef",
    "outputId": "730fed83-a3b8-42b8-8e5a-8d01faaea972"
   },
   "source": [
    "from sklearn.ensemble import RandomForestClassifier, AdaBoostClassifier, VotingClassifier\n",
    "from sklearn.svm import SVC\n",
    "from sklearn.discriminant_analysis import LinearDiscriminantAnalysis\n",
    "from sklearn.model_selection import cross_val_score\n",
    "\n",
    "# Define the models\n",
    "rf_clf = RandomForestClassifier(n_estimators=100, random_state=42)\n",
    "ada_clf = AdaBoostClassifier(n_estimators=50, learning_rate=1, random_state=42)\n",
    "svm_clf = SVC(degree=3, kernel=\"rbf\", gamma=0.005, C=150, probability=True)\n",
    "lda_clf = LinearDiscriminantAnalysis()\n",
    "\n",
    "# Create the ensemble model\n",
    "estimators = [('rf', rf_clf), ('ada', ada_clf), ('svm', svm_clf), ('lda', lda_clf)]\n",
    "voting_clf = VotingClassifier(estimators=estimators, voting='soft', n_jobs=-1)\n",
    "\n",
    "# Fit the model\n",
    "voting_clf.fit(X_train_standardized2, y_train2)\n",
    "\n",
    "# Perform cross-validation and print the mean score\n",
    "cross_val_scores = cross_val_score(voting_clf, X_train_standardized2, y_train2, cv=10, scoring=\"accuracy\")\n",
    "print(f\"Cross Validations are {cross_val_scores}\")\n",
    "print(f\"Cross Validation Mean is {np.mean(cross_val_scores)}\")"
   ]
  },
  {
   "cell_type": "markdown",
   "id": "F5xx8_bJRzQJ",
   "metadata": {
    "id": "F5xx8_bJRzQJ"
   },
   "source": [
    "## 96.05%의 결과가 나온 코드에 대해서 오차행렬을 해보려고 함"
   ]
  },
  {
   "cell_type": "markdown",
   "id": "696b5294",
   "metadata": {
    "colab": {
     "base_uri": "https://localhost:8080/"
    },
    "executionInfo": {
     "elapsed": 814398,
     "status": "ok",
     "timestamp": 1700023826012,
     "user": {
      "displayName": "문승기",
      "userId": "14661476371360042287"
     },
     "user_tz": -540
    },
    "id": "bz0S_3sQ_S0u",
    "outputId": "d9e4dbc3-329a-4938-b173-53415c01c921"
   },
   "source": [
    "from sklearn.model_selection import cross_val_predict\n",
    "from sklearn.metrics import confusion_matrix\n",
    "\n",
    "y_train_pred = cross_val_predict(voting_clf, X_train_standardized2, y_train2, cv=10)\n",
    "conf_mx = confusion_matrix(y_train2, y_train_pred)\n",
    "conf_mx"
   ]
  },
  {
   "cell_type": "markdown",
   "id": "4gy-XBL4eWE-",
   "metadata": {
    "id": "4gy-XBL4eWE-"
   },
   "source": [
    "## 특성을 추가하고, 표준화 한 데이터 사용 X_train_standardized3"
   ]
  },
  {
   "cell_type": "markdown",
   "id": "8c0bbc56",
   "metadata": {
    "colab": {
     "base_uri": "https://localhost:8080/"
    },
    "executionInfo": {
     "elapsed": 898540,
     "status": "ok",
     "timestamp": 1700020203952,
     "user": {
      "displayName": "문승기",
      "userId": "14661476371360042287"
     },
     "user_tz": -540
    },
    "id": "wTusdgid_PTQ",
    "outputId": "573af48a-3f1d-4962-9cb4-d4241674aeef"
   },
   "source": [
    "from sklearn.ensemble import RandomForestClassifier, AdaBoostClassifier, VotingClassifier\n",
    "from sklearn.svm import SVC\n",
    "from sklearn.discriminant_analysis import LinearDiscriminantAnalysis\n",
    "from sklearn.model_selection import cross_val_score\n",
    "\n",
    "# Define the models\n",
    "rf_clf = RandomForestClassifier(n_estimators=100, random_state=42)\n",
    "ada_clf = AdaBoostClassifier(n_estimators=50, learning_rate=1, random_state=42)\n",
    "svm_clf = SVC(degree=3, kernel=\"rbf\", gamma=0.005, C=150, probability=True)\n",
    "lda_clf = LinearDiscriminantAnalysis()\n",
    "\n",
    "# Create the ensemble model\n",
    "estimators = [('rf', rf_clf), ('ada', ada_clf), ('svm', svm_clf), ('lda', lda_clf)]\n",
    "voting_clf = VotingClassifier(estimators=estimators, voting='soft', n_jobs=-1)\n",
    "\n",
    "# Fit the model\n",
    "voting_clf.fit(X_train_standardized3, y_train3)\n",
    "\n",
    "# Perform cross-validation and print the mean score\n",
    "cross_val_scores = cross_val_score(voting_clf, X_train_standardized3, y_train3, cv=10, scoring=\"accuracy\")\n",
    "print(f\"Cross Validations are {cross_val_scores}\")\n",
    "print(f\"Cross Validation Mean is {np.mean(cross_val_scores)}\")"
   ]
  },
  {
   "cell_type": "markdown",
   "id": "d9e6d213",
   "metadata": {
    "colab": {
     "base_uri": "https://localhost:8080/"
    },
    "executionInfo": {
     "elapsed": 824537,
     "status": "ok",
     "timestamp": 1700021965349,
     "user": {
      "displayName": "문승기",
      "userId": "14661476371360042287"
     },
     "user_tz": -540
    },
    "id": "CtYN3SGZeons",
    "outputId": "f4c48a24-f206-4693-9755-5defab037ae2"
   },
   "source": [
    "from sklearn.model_selection import cross_val_predict\n",
    "from sklearn.metrics import confusion_matrix\n",
    "\n",
    "y_train_pred = cross_val_predict(voting_clf, X_train_standardized3, y_train3, cv=10)\n",
    "conf_mx = confusion_matrix(y_train3, y_train_pred)\n",
    "conf_mx"
   ]
  },
  {
   "cell_type": "markdown",
   "id": "oNc9UR6HZFyD",
   "metadata": {
    "id": "oNc9UR6HZFyD"
   },
   "source": [
    "## 위의 96.1% 결과에서 lda 분류기의 속성을 변경(다중클래스 분류가 가능하게 하기 위함)"
   ]
  },
  {
   "cell_type": "markdown",
   "id": "5dd5a925",
   "metadata": {
    "colab": {
     "base_uri": "https://localhost:8080/"
    },
    "executionInfo": {
     "elapsed": 784179,
     "status": "ok",
     "timestamp": 1700092439545,
     "user": {
      "displayName": "문승기",
      "userId": "14661476371360042287"
     },
     "user_tz": -540
    },
    "id": "8KPq914kUbd0",
    "outputId": "6e77cd59-58f3-4f2b-f6d6-c06d48732a0a"
   },
   "source": [
    "from sklearn.ensemble import RandomForestClassifier, AdaBoostClassifier, VotingClassifier\n",
    "from sklearn.svm import SVC\n",
    "from sklearn.discriminant_analysis import LinearDiscriminantAnalysis\n",
    "from sklearn.model_selection import cross_val_score\n",
    "\n",
    "# Define the models\n",
    "rf_clf = RandomForestClassifier(n_estimators=100, random_state=42)\n",
    "ada_clf = AdaBoostClassifier(n_estimators=50, learning_rate=1, random_state=42)\n",
    "svm_clf = SVC(degree=3, kernel=\"rbf\", gamma=0.005, C=150, probability=True)\n",
    "lda_clf = LinearDiscriminantAnalysis(solver='lsqr')\n",
    "\n",
    "# Create the ensemble model\n",
    "estimators = [('rf', rf_clf), ('ada', ada_clf), ('svm', svm_clf), ('lda', lda_clf)]\n",
    "voting_clf = VotingClassifier(estimators=estimators, voting='soft', n_jobs=-1)\n",
    "\n",
    "# Fit the model\n",
    "voting_clf.fit(X_train_standardized3, y_train3)\n",
    "\n",
    "# Perform cross-validation and print the mean score\n",
    "cross_val_scores = cross_val_score(voting_clf, X_train_standardized3, y_train3, cv=10, scoring=\"accuracy\")\n",
    "print(f\"Cross Validations are {cross_val_scores}\")\n",
    "print(f\"Cross Validation Mean is {np.mean(cross_val_scores)}\")\n"
   ]
  },
  {
   "cell_type": "markdown",
   "id": "a58b4987",
   "metadata": {
    "executionInfo": {
     "elapsed": 25405291,
     "status": "ok",
     "timestamp": 1700121013724,
     "user": {
      "displayName": "문승기",
      "userId": "14661476371360042287"
     },
     "user_tz": -540
    },
    "id": "Jadb_tBmZFYT"
   },
   "source": [
    "from sklearn.ensemble import RandomForestClassifier, AdaBoostClassifier, VotingClassifier\n",
    "from sklearn.svm import SVC\n",
    "from sklearn.discriminant_analysis import LinearDiscriminantAnalysis\n",
    "\n",
    "from sklearn.model_selection import cross_val_score\n",
    "from sklearn.model_selection import GridSearchCV\n",
    "\n",
    "# Define the models\n",
    "rf_clf = RandomForestClassifier(n_estimators=100, random_state=42)\n",
    "ada_clf = AdaBoostClassifier(n_estimators=50, learning_rate=1, random_state=42)\n",
    "svm_clf = SVC(degree=3, kernel=\"rbf\", gamma=0.005, C=150, probability=True)\n",
    "lda_clf = LinearDiscriminantAnalysis(solver='lsqr')\n",
    "\n",
    "# Define the models\n",
    "rf_clf = RandomForestClassifier(n_estimators=100, random_state=42)\n",
    "ada_clf = AdaBoostClassifier(n_estimators=50, learning_rate=1, random_state=42)\n",
    "svm_clf = SVC(probability=True)  # SVC without fixed hyperparameters\n",
    "lda_clf = LinearDiscriminantAnalysis()\n",
    "\n",
    "# Define the parameter grid for each model\n",
    "param_grid_rf = {\n",
    "    'n_estimators': [50, 100, 150],\n",
    "    'max_depth': [None, 10, 20],\n",
    "    'min_samples_split': [2, 5, 10],\n",
    "    'min_samples_leaf': [1, 2, 4]\n",
    "}\n",
    "\n",
    "param_grid_ada = {\n",
    "    'n_estimators': [10, 20, 30, 50, 100],\n",
    "    'learning_rate': [0.03, 0.05, 0.1, 0.5, 1],\n",
    "    'random_state': [42, 70, 100]\n",
    "}\n",
    "\n",
    "param_grid_svc = {\n",
    "    'C': [100, 150, 200, 250, 300],\n",
    "    'gamma': [0.001, 0.005, 0.01, 0.3, 0.5, 1.0],\n",
    "    'kernel': ['rbf', 'poly', 'linear', 'sigmoid'],\n",
    "    'degree': [3, 5, 7],\n",
    "    'coef0': [0.1, 0.3, 0.5, 1.0]\n",
    "}\n",
    "\n",
    "param_grid_lda = {\n",
    "    'solver': ['svd', 'lsqr'],\n",
    "    'shrinkage': [None, 'auto']\n",
    "}\n",
    "\n",
    "# Create grid search objects for each model\n",
    "grid_search_rf = GridSearchCV(rf_clf, param_grid_rf, cv=5, scoring='accuracy', n_jobs=-1)\n",
    "grid_search_ada = GridSearchCV(ada_clf, param_grid_ada, cv=5, scoring='accuracy', n_jobs=-1)\n",
    "grid_search_svc = GridSearchCV(svm_clf, param_grid_svc, cv=5, scoring='accuracy', n_jobs=-1)\n",
    "grid_search_lda = GridSearchCV(lda_clf, param_grid_lda, cv=5, scoring='accuracy', n_jobs=-1)\n",
    "\n",
    "# Fit the grid search objects to find the best parameters\n",
    "grid_search_rf.fit(X_train_standardized4, y_train4)\n",
    "grid_search_ada.fit(X_train_standardized4, y_train4)\n",
    "grid_search_svc.fit(X_train_standardized4, y_train4)\n",
    "grid_search_lda.fit(X_train_standardized4, y_train4)\n",
    "\n",
    "# Get the best parameters for each model\n",
    "best_params_rf = grid_search_rf.best_params_\n",
    "best_params_ada = grid_search_ada.best_params_\n",
    "best_params_svc = grid_search_svc.best_params_\n",
    "best_params_lda = grid_search_lda.best_params_\n",
    "\n",
    "print(f\"best_params_rf : {best_params_rf}\")\n",
    "print(f\"best_params_ada : {best_params_ada}\")\n",
    "print(f\"best_params_svc : {best_params_svc}\")\n",
    "print(f\"best_params_lda : {best_params_lda}\")\n",
    "\n",
    "# Update the models with the best parameters\n",
    "rf_clf.set_params(**best_params_rf)\n",
    "ada_clf.set_params(**best_params_ada)\n",
    "svm_clf.set_params(**best_params_svc)\n",
    "lda_clf.set_params(**best_params_lda)\n",
    "\n",
    "# Create the ensemble model with updated models\n",
    "voting_clf = VotingClassifier(estimators=[('rf', rf_clf), ('ada', ada_clf), ('svm', svm_clf), ('lda', lda_clf)],\n",
    "                               voting='soft', n_jobs=-1)\n",
    "\n",
    "# Perform cross-validation and print the mean score\n",
    "cross_val_scores = cross_val_score(voting_clf, X_train_standardized, y_train, cv=10, scoring='accuracy')\n",
    "print(f\"Cross Validations are {cross_val_scores}\")\n",
    "print(f\"Cross Validation Mean is {np.mean(cross_val_scores)}\")"
   ]
  },
  {
   "cell_type": "markdown",
   "id": "PuA9hbvsKBvw",
   "metadata": {
    "id": "PuA9hbvsKBvw"
   },
   "source": [
    "## 특성을 추가하고, 표준화 한 데이터 사용 X_train_standardized4"
   ]
  },
  {
   "cell_type": "markdown",
   "id": "d5a3e407",
   "metadata": {
    "colab": {
     "base_uri": "https://localhost:8080/"
    },
    "executionInfo": {
     "elapsed": 1507387,
     "status": "ok",
     "timestamp": 1700042782857,
     "user": {
      "displayName": "문승기",
      "userId": "14661476371360042287"
     },
     "user_tz": -540
    },
    "id": "D4CKTwX0KDMF",
    "outputId": "d1c42cbe-9439-49c8-c732-21dda1910330"
   },
   "source": [
    "from sklearn.ensemble import RandomForestClassifier, AdaBoostClassifier, VotingClassifier\n",
    "from sklearn.svm import SVC\n",
    "from sklearn.discriminant_analysis import LinearDiscriminantAnalysis\n",
    "from sklearn.model_selection import cross_val_score\n",
    "\n",
    "# Define the models\n",
    "rf_clf = RandomForestClassifier(n_estimators=100, random_state=42)\n",
    "ada_clf = AdaBoostClassifier(n_estimators=50, learning_rate=1, random_state=42)\n",
    "svm_clf = SVC(degree=3, kernel=\"rbf\", gamma=0.005, C=150, probability=True)\n",
    "lda_clf = LinearDiscriminantAnalysis(solver='svd', shrinkage=None, priors=None, n_components=None)\n",
    "\n",
    "# Create the ensemble model\n",
    "estimators = [('rf', rf_clf), ('ada', ada_clf), ('svm', svm_clf), ('lda', lda_clf)]\n",
    "voting_clf = VotingClassifier(estimators=estimators, voting='soft', n_jobs=-1)\n",
    "\n",
    "# Fit the model\n",
    "voting_clf.fit(X_train_standardized4, y_train4)\n",
    "\n",
    "# Perform cross-validation and print the mean score\n",
    "cross_val_scores = cross_val_score(voting_clf, X_train_standardized4, y_train4, cv=10, scoring=\"accuracy\")\n",
    "print(f\"Cross Validations are {cross_val_scores}\")\n",
    "print(f\"Cross Validation Mean is {np.mean(cross_val_scores)}\")"
   ]
  },
  {
   "cell_type": "markdown",
   "id": "de31412b",
   "metadata": {
    "colab": {
     "base_uri": "https://localhost:8080/"
    },
    "executionInfo": {
     "elapsed": 1361084,
     "status": "ok",
     "timestamp": 1700045115186,
     "user": {
      "displayName": "문승기",
      "userId": "14661476371360042287"
     },
     "user_tz": -540
    },
    "id": "hs57pu0UKEtr",
    "outputId": "ff711627-3142-487c-d9e9-b6ec16f99e8d"
   },
   "source": [
    "from sklearn.model_selection import cross_val_predict\n",
    "from sklearn.metrics import confusion_matrix\n",
    "\n",
    "y_train_pred = cross_val_predict(voting_clf, X_train_standardized4, y_train4, cv=10)\n",
    "conf_mx = confusion_matrix(y_train4, y_train_pred)\n",
    "conf_mx"
   ]
  },
  {
   "cell_type": "markdown",
   "id": "d531212e",
   "metadata": {},
   "source": [
    "from sklearn.ensemble import RandomForestClassifier, AdaBoostClassifier, VotingClassifier\n",
    "from sklearn.svm import SVC\n",
    "from sklearn.model_selection import cross_val_score\n",
    "\n",
    "# Define the models\n",
    "rf_clf = RandomForestClassifier(n_estimators=100, random_state=42)\n",
    "ada_clf = AdaBoostClassifier(n_estimators=50, learning_rate=1, random_state=42)\n",
    "svm_clf = SVC(degree=3, kernel=\"rbf\", gamma=0.005, C=150, probability=True)\n",
    "\n",
    "# Create the ensemble model\n",
    "estimators = [('rf', rf_clf), ('ada', ada_clf), ('svm', svm_clf)]\n",
    "voting_clf = VotingClassifier(estimators=estimators, voting='soft', n_jobs=-1)\n",
    "\n",
    "# Fit the model\n",
    "voting_clf.fit(X_train_standardized4, y_train4)\n",
    "\n",
    "# Perform cross-validation and print the mean score\n",
    "cross_val_scores = cross_val_score(voting_clf, X_train_standardized4, y_train4, cv=10, scoring=\"accuracy\")\n",
    "print(f\"Cross Validations are {cross_val_scores}\")\n",
    "print(f\"Cross Validation Mean is {np.mean(cross_val_scores)}\")"
   ]
  },
  {
   "cell_type": "markdown",
   "id": "6cf3b256",
   "metadata": {},
   "source": [
    "## 배깅 & 페이스팅"
   ]
  },
  {
   "cell_type": "markdown",
   "id": "850448d7",
   "metadata": {
    "scrolled": true
   },
   "source": [
    "from sklearn.ensemble import BaggingClassifier\n",
    "from sklearn.tree import DecisionTreeClassifier\n",
    "from sklearn.model_selection import cross_val_score\n",
    "\n",
    "bag_clf = BaggingClassifier(\n",
    "    DecisionTreeClassifier(), n_estimators=500,\n",
    "    max_samples=100, bootstrap=True, random_state=42, n_jobs=-1)\n",
    "bag_clf.fit(X_train4, y_train4)\n",
    "\n",
    "cross_val_scores_smote = cross_val_score(bag_clf, X_train4, y_train4, cv=10, scoring='accuracy')\n",
    "print(f\"Cross Validations on SMOTE-augmented data are {cross_val_scores_smote}\")\n",
    "print(f\"Cross Validation Mean on SMOTE-augmented data is {np.mean(cross_val_scores_smote)}\")\n"
   ]
  },
  {
   "cell_type": "markdown",
   "id": "12bf3b56",
   "metadata": {
    "scrolled": true
   },
   "source": [
    "from sklearn.ensemble import BaggingClassifier\n",
    "from sklearn.tree import DecisionTreeClassifier\n",
    "from sklearn.model_selection import cross_val_score\n",
    "\n",
    "bag_clf = BaggingClassifier(\n",
    "    DecisionTreeClassifier(), n_estimators=500,\n",
    "    max_samples=100, bootstrap=False, random_state=42, n_jobs=-1)\n",
    "bag_clf.fit(X_train4, y_train4)\n",
    "\n",
    "cross_val_scores = cross_val_score(bag_clf, X_train4, y_train4, cv=10, scoring='accuracy')\n",
    "print(f\"Cross Validations on data are {cross_val_scores}\")\n",
    "print(f\"Cross Validation Mean is {np.mean(cross_val_scores)}\")\n"
   ]
  },
  {
   "cell_type": "markdown",
   "id": "0e796429",
   "metadata": {},
   "source": [
    "df_train4.shape"
   ]
  },
  {
   "cell_type": "markdown",
   "id": "25be07cf",
   "metadata": {},
   "source": [
    "from sklearn.ensemble import BaggingClassifier\n",
    "from sklearn.tree import DecisionTreeClassifier\n",
    "from sklearn.model_selection import cross_val_score\n",
    "\n",
    "# DecisionTreeClassifier의 하이퍼파라미터를 조절\n",
    "base_tree = DecisionTreeClassifier(max_depth=10, min_samples_split=5, min_samples_leaf=2)\n",
    "\n",
    "bag_clf = BaggingClassifier(base_tree, n_estimators=500, max_samples=100, bootstrap=False, random_state=42, n_jobs=-1)\n",
    "bag_clf.fit(X_train4, y_train4)\n",
    "\n",
    "cross_val_scores = cross_val_score(bag_clf, X_train4, y_train4, cv=10, scoring='accuracy')\n",
    "print(f\"Cross Validations on data are {cross_val_scores}\")\n",
    "print(f\"Cross Validation Mean is {np.mean(cross_val_scores)}\")\n"
   ]
  },
  {
   "cell_type": "markdown",
   "id": "0eb673a6",
   "metadata": {},
   "source": [
    "from sklearn.ensemble import BaggingClassifier\n",
    "from sklearn.tree import DecisionTreeClassifier\n",
    "from sklearn.model_selection import cross_val_score\n",
    "\n",
    "# DecisionTreeClassifier의 하이퍼파라미터를 조절\n",
    "base_tree = DecisionTreeClassifier(max_depth=15, min_samples_split=5, min_samples_leaf=2)\n",
    "\n",
    "bag_clf = BaggingClassifier(base_tree, n_estimators=500, max_samples=150, bootstrap=False, random_state=42, n_jobs=-1)\n",
    "bag_clf.fit(X_train4, y_train4)\n",
    "\n",
    "cross_val_scores = cross_val_score(bag_clf, X_train4, y_train4, cv=10, scoring='accuracy')\n",
    "print(f\"Cross Validations on data are {cross_val_scores}\")\n",
    "print(f\"Cross Validation Mean is {np.mean(cross_val_scores)}\")\n"
   ]
  },
  {
   "cell_type": "markdown",
   "id": "b63ea325",
   "metadata": {
    "scrolled": true
   },
   "source": [
    "from sklearn.ensemble import RandomForestClassifier\n",
    "from sklearn.ensemble import VotingClassifier\n",
    "from sklearn.linear_model import LogisticRegression\n",
    "from sklearn.svm import SVC\n",
    "from sklearn.model_selection import cross_val_score\n",
    "\n",
    "log_clf = LogisticRegression(solver=\"liblinear\", random_state=42)\n",
    "rnd_clf = RandomForestClassifier(n_estimators=10, random_state=42, n_jobs=-1)\n",
    "svm_clf = SVC(gamma=\"auto\", probability=True, random_state=42)\n",
    "\n",
    "voting_clf = VotingClassifier(\n",
    "    estimators=[('lr', log_clf), ('rf', rnd_clf), ('svc', svm_clf)],\n",
    "    voting='soft')\n",
    "voting_clf.fit(X_train4, y_train4)\n",
    "\n",
    "cross_val_scores = cross_val_score(voting_clf, X_train4, y_train4, cv=10, scoring='accuracy')\n",
    "print(f\"Cross Validations on data are {cross_val_scores}\")\n",
    "print(f\"Cross Validation Mean is {np.mean(cross_val_scores)}\")"
   ]
  },
  {
   "cell_type": "markdown",
   "id": "c24e157f",
   "metadata": {},
   "source": [
    "from sklearn.ensemble import RandomForestClassifier\n",
    "from sklearn.ensemble import VotingClassifier\n",
    "from sklearn.linear_model import LogisticRegression\n",
    "from sklearn.svm import SVC\n",
    "from sklearn.model_selection import cross_val_score\n",
    "\n",
    "log_clf = LogisticRegression(solver=\"liblinear\", random_state=42)\n",
    "rnd_clf = RandomForestClassifier(n_estimators=10, random_state=42, n_jobs=-1)\n",
    "svm_clf = SVC(gamma=\"auto\", random_state=42)\n",
    "\n",
    "voting_clf = VotingClassifier(\n",
    "    estimators=[('lr', log_clf), ('rf', rnd_clf), ('svc', svm_clf)],\n",
    "    voting='hard')\n",
    "voting_clf.fit(X_train4, y_train4)\n",
    "\n",
    "cross_val_scores = cross_val_score(voting_clf, X_train4, y_train4, cv=10, scoring='accuracy')\n",
    "print(f\"Cross Validations are {cross_val_scores}\")\n",
    "print(f\"Cross Validation Mean is {np.mean(cross_val_scores)}\")"
   ]
  },
  {
   "cell_type": "markdown",
   "id": "d46815a1",
   "metadata": {},
   "source": [
    "from sklearn.ensemble import RandomForestClassifier\n",
    "from sklearn.ensemble import VotingClassifier\n",
    "from sklearn.linear_model import LogisticRegression\n",
    "from sklearn.svm import SVC\n",
    "from sklearn.model_selection import cross_val_score\n",
    "\n",
    "log_clf = LogisticRegression(solver=\"liblinear\", random_state=42)\n",
    "rnd_clf = RandomForestClassifier(n_estimators=10, random_state=42, n_jobs=-1)\n",
    "svm_clf = SVC(gamma=\"auto\", probability=True, random_state=42)\n",
    "\n",
    "voting_clf = VotingClassifier(\n",
    "    estimators=[('lr', log_clf), ('rf', rnd_clf), ('svc', svm_clf)],\n",
    "    voting='soft')\n",
    "voting_clf.fit(X_train2, y_train2)\n",
    "\n",
    "cross_val_scores = cross_val_score(voting_clf, X_train2, y_train2, cv=10, scoring='accuracy')\n",
    "print(f\"Cross Validations are {cross_val_scores}\")\n",
    "print(f\"Cross Validation Mean is {np.mean(cross_val_scores)}\")"
   ]
  },
  {
   "cell_type": "markdown",
   "id": "57421038",
   "metadata": {},
   "source": [
    "from sklearn.ensemble import RandomForestClassifier\n",
    "from sklearn.ensemble import VotingClassifier\n",
    "from sklearn.linear_model import LogisticRegression\n",
    "from sklearn.svm import SVC\n",
    "from sklearn.model_selection import cross_val_score\n",
    "\n",
    "log_clf = LogisticRegression(solver=\"liblinear\", random_state=42)\n",
    "rnd_clf = RandomForestClassifier(n_estimators=10, random_state=42, n_jobs=-1)\n",
    "svm_clf = SVC(gamma=\"auto\", probability=True, random_state=42)\n",
    "\n",
    "voting_clf = VotingClassifier(\n",
    "    estimators=[('lr', log_clf), ('rf', rnd_clf), ('svc', svm_clf)],\n",
    "    voting='soft')\n",
    "voting_clf.fit(X_train3, y_train3)\n",
    "\n",
    "cross_val_scores = cross_val_score(voting_clf, X_train3, y_train3, cv=10, scoring='accuracy')\n",
    "print(f\"Cross Validations are {cross_val_scores}\")\n",
    "print(f\"Cross Validation Mean is {np.mean(cross_val_scores)}\")"
   ]
  },
  {
   "cell_type": "markdown",
   "id": "a39bf2c0",
   "metadata": {},
   "source": [
    "from sklearn.ensemble import RandomForestClassifier\n",
    "from sklearn.ensemble import VotingClassifier\n",
    "from sklearn.linear_model import LogisticRegression\n",
    "from sklearn.svm import SVC\n",
    "from sklearn.model_selection import cross_val_score\n",
    "\n",
    "log_clf = LogisticRegression(solver=\"liblinear\", random_state=42)\n",
    "rnd_clf = RandomForestClassifier(n_estimators=20, random_state=42, n_jobs=-1)\n",
    "svm_clf = SVC(gamma=\"auto\", probability=True, random_state=42)\n",
    "\n",
    "voting_clf = VotingClassifier(\n",
    "    estimators=[('lr', log_clf), ('rf', rnd_clf), ('svc', svm_clf)],\n",
    "    voting='soft')\n",
    "voting_clf.fit(X_train3, y_train3)\n",
    "\n",
    "cross_val_scores = cross_val_score(voting_clf, X_train3, y_train3, cv=10, scoring='accuracy')\n",
    "print(f\"Cross Validations are {cross_val_scores}\")\n",
    "print(f\"Cross Validation Mean is {np.mean(cross_val_scores)}\")"
   ]
  },
  {
   "cell_type": "markdown",
   "id": "c299e830",
   "metadata": {},
   "source": [
    "from sklearn.ensemble import RandomForestClassifier\n",
    "from sklearn.ensemble import VotingClassifier\n",
    "from sklearn.linear_model import LogisticRegression\n",
    "from sklearn.svm import SVC\n",
    "from sklearn.model_selection import cross_val_score\n",
    "\n",
    "log_clf = LogisticRegression(solver=\"liblinear\", random_state=42)\n",
    "rnd_clf = RandomForestClassifier(n_estimators=50, random_state=42, n_jobs=-1)\n",
    "svm_clf = SVC(gamma=\"auto\", probability=True, random_state=42)\n",
    "\n",
    "voting_clf = VotingClassifier(\n",
    "    estimators=[('lr', log_clf), ('rf', rnd_clf), ('svc', svm_clf)],\n",
    "    voting='soft')\n",
    "voting_clf.fit(X_train2, y_train2)\n",
    "\n",
    "cross_val_scores = cross_val_score(voting_clf, X_train2, y_train2, cv=10, scoring='accuracy')\n",
    "print(f\"Cross Validations are {cross_val_scores}\")\n",
    "print(f\"Cross Validation Mean is {np.mean(cross_val_scores)}\")"
   ]
  },
  {
   "cell_type": "markdown",
   "id": "46aa20be",
   "metadata": {},
   "source": [
    "from sklearn.ensemble import RandomForestClassifier\n",
    "from sklearn.ensemble import VotingClassifier\n",
    "from sklearn.linear_model import LogisticRegression\n",
    "from sklearn.svm import SVC\n",
    "from sklearn.model_selection import cross_val_score\n",
    "\n",
    "log_clf = LogisticRegression(solver=\"liblinear\", random_state=42)\n",
    "rnd_clf = RandomForestClassifier(n_estimators=70, random_state=42, n_jobs=-1)\n",
    "svm_clf = SVC(gamma=\"auto\", probability=True, random_state=42)\n",
    "\n",
    "voting_clf = VotingClassifier(\n",
    "    estimators=[('lr', log_clf), ('rf', rnd_clf), ('svc', svm_clf)],\n",
    "    voting='soft')\n",
    "voting_clf.fit(X_train2, y_train2)\n",
    "\n",
    "cross_val_scores = cross_val_score(voting_clf, X_train2, y_train2, cv=10, scoring='accuracy')\n",
    "print(f\"Cross Validations are {cross_val_scores}\")\n",
    "print(f\"Cross Validation Mean is {np.mean(cross_val_scores)}\")"
   ]
  },
  {
   "cell_type": "markdown",
   "id": "97b5d689",
   "metadata": {},
   "source": [
    "from sklearn.ensemble import RandomForestClassifier\n",
    "from sklearn.ensemble import VotingClassifier\n",
    "from sklearn.linear_model import LogisticRegression\n",
    "from sklearn.svm import SVC\n",
    "from sklearn.model_selection import cross_val_score\n",
    "\n",
    "log_clf = LogisticRegression(solver=\"liblinear\", random_state=42)\n",
    "rnd_clf = RandomForestClassifier(n_estimators=75, random_state=42, n_jobs=-1)\n",
    "svm_clf = SVC(gamma=\"auto\", probability=True, random_state=42)\n",
    "\n",
    "voting_clf = VotingClassifier(\n",
    "    estimators=[('lr', log_clf), ('rf', rnd_clf), ('svc', svm_clf)],\n",
    "    voting='soft')\n",
    "voting_clf.fit(X_train2, y_train2)\n",
    "\n",
    "cross_val_scores = cross_val_score(voting_clf, X_train2, y_train2, cv=10, scoring='accuracy')\n",
    "print(f\"Cross Validations are {cross_val_scores}\")\n",
    "print(f\"Cross Validation Mean is {np.mean(cross_val_scores)}\")"
   ]
  },
  {
   "cell_type": "markdown",
   "id": "48f6956f",
   "metadata": {},
   "source": [
    "from sklearn.ensemble import RandomForestClassifier\n",
    "from sklearn.ensemble import VotingClassifier\n",
    "from sklearn.linear_model import LogisticRegression\n",
    "from sklearn.svm import SVC\n",
    "from sklearn.model_selection import cross_val_score\n",
    "\n",
    "log_clf = LogisticRegression(solver=\"liblinear\", random_state=42)\n",
    "rnd_clf = RandomForestClassifier(n_estimators=75, random_state=42, n_jobs=-1)\n",
    "svm_clf = SVC(gamma=\"auto\", probability=True, random_state=42, kernel=\"linear\")\n",
    "\n",
    "voting_clf = VotingClassifier(\n",
    "    estimators=[('lr', log_clf), ('rf', rnd_clf), ('svc', svm_clf)],\n",
    "    voting='soft')\n",
    "voting_clf.fit(X_train2, y_train2)\n",
    "\n",
    "cross_val_scores = cross_val_score(voting_clf, X_train2, y_train2, cv=10, scoring='accuracy')\n",
    "print(f\"Cross Validations are {cross_val_scores}\")\n",
    "print(f\"Cross Validation Mean is {np.mean(cross_val_scores)}\")"
   ]
  },
  {
   "cell_type": "markdown",
   "id": "1f85640c",
   "metadata": {
    "scrolled": true
   },
   "source": [
    "from sklearn.ensemble import RandomForestClassifier\n",
    "from sklearn.ensemble import VotingClassifier\n",
    "from sklearn.linear_model import LogisticRegression\n",
    "from sklearn.svm import SVC\n",
    "from sklearn.model_selection import cross_val_score\n",
    "\n",
    "log_clf = LogisticRegression(solver=\"liblinear\", random_state=42)\n",
    "rnd_clf = RandomForestClassifier(n_estimators=350, max_depth=20, min_samples_leaf=1, min_samples_split=2, random_state=42, n_jobs=-1)\n",
    "svm_clf = SVC(gamma=\"auto\", probability=True, random_state=42, kernel=\"linear\")\n",
    "\n",
    "voting_clf = VotingClassifier(\n",
    "    estimators=[('lr', log_clf), ('rf', rnd_clf), ('svc', svm_clf)],\n",
    "    voting='soft')\n",
    "voting_clf.fit(X_train2, y_train2)\n",
    "\n",
    "cross_val_scores = cross_val_score(voting_clf, X_train2, y_train2, cv=10, scoring='accuracy')\n",
    "print(f\"Cross Validations are {cross_val_scores}\")\n",
    "print(f\"Cross Validation Mean is {np.mean(cross_val_scores)}\")"
   ]
  },
  {
   "cell_type": "markdown",
   "id": "f9d3c8ae",
   "metadata": {},
   "source": [
    "from sklearn.ensemble import RandomForestClassifier\n",
    "from sklearn.ensemble import VotingClassifier\n",
    "from sklearn.linear_model import LogisticRegression\n",
    "from sklearn.svm import SVC\n",
    "from sklearn.model_selection import cross_val_score\n",
    "\n",
    "log_clf = LogisticRegression(solver=\"liblinear\", random_state=42)\n",
    "rnd_clf = RandomForestClassifier(n_estimators=150, random_state=42, n_jobs=-1)\n",
    "svm_clf = SVC(gamma=\"auto\", probability=True, random_state=42, kernel=\"linear\")\n",
    "\n",
    "voting_clf = VotingClassifier(\n",
    "    estimators=[('lr', log_clf), ('rf', rnd_clf), ('svc', svm_clf)],\n",
    "    voting='soft')\n",
    "voting_clf.fit(X_train2, y_train2)\n",
    "\n",
    "cross_val_scores = cross_val_score(voting_clf, X_train2, y_train2, cv=10, scoring='accuracy')\n",
    "print(f\"Cross Validations are {cross_val_scores}\")\n",
    "print(f\"Cross Validation Mean is {np.mean(cross_val_scores)}\")"
   ]
  },
  {
   "cell_type": "markdown",
   "id": "649e7eb9",
   "metadata": {},
   "source": [
    "from sklearn.model_selection import train_test_split, cross_val_score\n",
    "from sklearn.ensemble import BaggingClassifier\n",
    "from sklearn.tree import DecisionTreeClassifier\n",
    "from sklearn.metrics import accuracy_score\n",
    "\n",
    "# Create a decision tree classifier\n",
    "base_classifier = DecisionTreeClassifier(random_state=42)\n",
    "\n",
    "# Create a bagging classifier with 10 base classifiers\n",
    "bagging_classifier = BaggingClassifier(base_classifier, n_estimators=100, random_state=42, n_jobs=-1)\n",
    "\n",
    "# Fit the bagging classifier on the training data\n",
    "bagging_classifier.fit(X_train2, y_train2)\n",
    "\n",
    "# Perform cross-validation and print the scores\n",
    "cross_val_scores = cross_val_score(bagging_classifier, X_train2, y_train2, cv=10, scoring=\"accuracy\", n_jobs=-1)\n",
    "mean_score = cross_val_scores.mean()\n",
    "print(cross_val_scores)\n",
    "print(mean_score)\n"
   ]
  },
  {
   "cell_type": "markdown",
   "id": "e8be1231",
   "metadata": {},
   "source": [
    "from sklearn.model_selection import train_test_split\n",
    "from sklearn.ensemble import BaggingClassifier\n",
    "from sklearn.tree import DecisionTreeClassifier\n",
    "from sklearn.metrics import accuracy_score\n",
    "\n",
    "# Create a decision tree classifier\n",
    "base_classifier = DecisionTreeClassifier(random_state=42)\n",
    "\n",
    "# Create a bagging classifier with 10 base classifiers\n",
    "bagging_classifier = BaggingClassifier(base_classifier, n_estimators=100, random_state=42)\n",
    "\n",
    "# Fit the bagging classifier on the training data\n",
    "bagging_classifier.fit(X_train3, y_train3)\n",
    "\n",
    "cross_val_scores = cross_val_score(voting_clf, X_train3, y_train3, cv=10, scoring=\"accuracy\")\n",
    "mean_score = cross_val_scores.mean()\n",
    "print(cross_val_scores)\n",
    "print(mean_score)"
   ]
  },
  {
   "cell_type": "markdown",
   "id": "890ef860",
   "metadata": {},
   "source": [
    "from sklearn.model_selection import train_test_split\n",
    "from sklearn.ensemble import BaggingClassifier\n",
    "from sklearn.tree import DecisionTreeClassifier\n",
    "from sklearn.metrics import accuracy_score\n",
    "\n",
    "# Create a decision tree classifier\n",
    "base_classifier = DecisionTreeClassifier(random_state=42)\n",
    "\n",
    "# Create a bagging classifier with 10 base classifiers\n",
    "bagging_classifier = BaggingClassifier(base_classifier, n_estimators=100, random_state=42)\n",
    "\n",
    "# Fit the bagging classifier on the training data\n",
    "bagging_classifier.fit(X_train4, y_train4)\n",
    "\n",
    "cross_val_scores = cross_val_score(voting_clf, X_train4, y_train4, cv=10, scoring=\"accuracy\")\n",
    "mean_score = cross_val_scores.mean()\n",
    "print(cross_val_scores)\n",
    "print(mean_score)"
   ]
  },
  {
   "cell_type": "markdown",
   "id": "bfeb46e0",
   "metadata": {},
   "source": [
    "from lightgbm import LGBMClassifier\n",
    "from sklearn.model_selection import cross_val_score\n",
    "from sklearn.preprocessing import LabelEncoder\n",
    "from sklearn.ensemble import BaggingClassifier\n",
    "import numpy as np\n",
    "import pandas as pd\n",
    "\n",
    "input_file = \"train.csv\"\n",
    "train = pd.read_csv(input_file)\n",
    "\n",
    "## object 타입의 열을 float 타입으로 변환\n",
    "train.iloc[:, 0] = pd.to_numeric(train.iloc[:, 0], errors='coerce')\n",
    "print(train.iloc[:, 0].dtype)\n",
    "\n",
    "min_value = train.iloc[:, 0].min()\n",
    "max_value = train.iloc[:, 0].max()\n",
    "\n",
    "print(min_value)\n",
    "print(max_value)\n",
    "\n",
    "## 평균을 구해서 새로운 열을 전부 채움\n",
    "train['563'] = min_value\n",
    "train['564'] = max_value\n",
    "\n",
    "# LabelEncoder 초기화\n",
    "label_encoder = LabelEncoder()\n",
    "\n",
    "# 'Activity' 열을 숫자 값으로 변환\n",
    "train[\"Activity\"] = label_encoder.fit_transform(train[\"Activity\"])\n",
    "\n",
    "train_data = train.drop(\"Activity\", axis=1)\n",
    "train_data = train_data.drop(\"subject\", axis=1)\n",
    "train_target = train[\"Activity\"].copy()\n",
    "\n",
    "# LightGBM 모델 초기화\n",
    "lgbm_clf = LGBMClassifier(boosting_type='gbdt', force_col_wise=True, class_weight=None, colsample_bytree=1.0,\n",
    "               importance_type='split', learning_rate=0.1, max_depth=-1,\n",
    "               min_child_samples=20, min_child_weight=0.001, min_split_gain=0.0,\n",
    "               n_estimators=100, n_jobs=-1, num_leaves=31, objective=None,\n",
    "               random_state=4092, reg_alpha=0.0, reg_lambda=0.0, silent='warn',\n",
    "               subsample=1.0, subsample_for_bin=200000, subsample_freq=0)\n",
    "\n",
    "# 배깅을 적용한 LightGBM 모델 정의\n",
    "bag_clf = BaggingClassifier(lgbm_clf, n_estimators=500, max_samples=100, bootstrap=True, random_state=42)\n",
    "\n",
    "bag_clf.fit(train_data.values, train_target.values)\n",
    "\n",
    "# 데이터에 모델 피팅\n",
    "cross_val_scores = cross_val_score(lgbm_clf, train_data.values, train_target.values, cv=10, scoring=\"accuracy\")\n",
    "mean_score = cross_val_scores.mean()\n",
    "print(mean_score)"
   ]
  },
  {
   "cell_type": "markdown",
   "id": "5575449a",
   "metadata": {},
   "source": [
    "from lightgbm import LGBMClassifier\n",
    "from sklearn.model_selection import cross_val_score\n",
    "from sklearn.preprocessing import LabelEncoder\n",
    "from sklearn.ensemble import BaggingClassifier\n",
    "import numpy as np\n",
    "import pandas as pd\n",
    "\n",
    "input_file = \"train.csv\"\n",
    "train = pd.read_csv(input_file)\n",
    "\n",
    "## object 타입의 열을 float 타입으로 변환\n",
    "train.iloc[:, 0] = pd.to_numeric(train.iloc[:, 0], errors='coerce')\n",
    "print(train.iloc[:, 0].dtype)\n",
    "\n",
    "min_value = train.iloc[:, 0].min()\n",
    "max_value = train.iloc[:, 0].max()\n",
    "\n",
    "print(min_value)\n",
    "print(max_value)\n",
    "\n",
    "## 평균을 구해서 새로운 열을 전부 채움\n",
    "train['563'] = min_value\n",
    "train['564'] = max_value\n",
    "\n",
    "# LabelEncoder 초기화\n",
    "label_encoder = LabelEncoder()\n",
    "\n",
    "# 'Activity' 열을 숫자 값으로 변환\n",
    "train[\"Activity\"] = label_encoder.fit_transform(train[\"Activity\"])\n",
    "\n",
    "train_data = train.drop(\"Activity\", axis=1)\n",
    "train_data = train_data.drop(\"subject\", axis=1)\n",
    "train_target = train[\"Activity\"].copy()\n",
    "\n",
    "# LightGBM 모델 초기화\n",
    "lgbm_clf = LGBMClassifier(boosting_type='gbdt', force_col_wise=True, class_weight=None, colsample_bytree=1.0,\n",
    "               importance_type='split', learning_rate=0.1, max_depth=-1,\n",
    "               min_child_samples=20, min_child_weight=0.001, min_split_gain=0.0,\n",
    "               n_estimators=100, n_jobs=-1, num_leaves=31, objective=None,\n",
    "               random_state=4092, reg_alpha=0.0, reg_lambda=0.0, silent='warn',\n",
    "               subsample=1.0, subsample_for_bin=200000, subsample_freq=0)\n",
    "\n",
    "# 배깅을 적용한 LightGBM 모델 정의\n",
    "bag_clf = BaggingClassifier(lgbm_clf, n_estimators=500, max_samples=100, bootstrap=False, random_state=42)\n",
    "\n",
    "bag_clf.fit(train_data.values, train_target.values)\n",
    "\n",
    "# 데이터에 모델 피팅\n",
    "cross_val_scores = cross_val_score(lgbm_clf, train_data.values, train_target.values, cv=10, scoring=\"accuracy\")\n",
    "mean_score = cross_val_scores.mean()\n",
    "print(mean_score)"
   ]
  },
  {
   "cell_type": "markdown",
   "id": "f4f91674",
   "metadata": {},
   "source": [
    "from lightgbm import LGBMClassifier\n",
    "from sklearn.model_selection import cross_val_score\n",
    "from sklearn.preprocessing import LabelEncoder\n",
    "from sklearn.ensemble import BaggingClassifier\n",
    "import numpy as np\n",
    "import pandas as pd\n",
    "\n",
    "input_file = \"train.csv\"\n",
    "train = pd.read_csv(input_file)\n",
    "\n",
    "from sklearn.preprocessing import LabelEncoder\n",
    "\n",
    "# LabelEncoder 초기화\n",
    "label_encoder = LabelEncoder()\n",
    "\n",
    "# 'Activity' 열을 숫자 값으로 변환\n",
    "train[\"Activity\"] = label_encoder.fit_transform(train[\"Activity\"])\n",
    "\n",
    "train_data = train.drop(\"Activity\", axis=1)\n",
    "train_data = train_data.drop(\"subject\", axis=1)\n",
    "\n",
    "## 1~561열까지 중간값을 구해서 새로운 열로 추가\n",
    "for i in range(561):\n",
    "    median_col = train_data.iloc[:, i].median()\n",
    "    new_col_name = f'col_{i}_median'\n",
    "    train_data[new_col_name] = median_col\n",
    "\n",
    "train_target = train[\"Activity\"].copy()\n",
    "print(train_data.values)\n",
    "print(train_target.values)\n",
    "\n",
    "lgbm_clf = LGBMClassifier(boosting_type='gbdt', force_col_wise=True, class_weight=None, colsample_bytree=1.0,\n",
    "               importance_type='split', learning_rate=0.1, max_depth=-1,\n",
    "               min_child_samples=20, min_child_weight=0.001, min_split_gain=0.0,\n",
    "               n_estimators=100, n_jobs=-1, num_leaves=31, objective=None,\n",
    "               random_state=4092, reg_alpha=0.0, reg_lambda=0.0, silent='warn',\n",
    "               subsample=1.0, subsample_for_bin=200000, subsample_freq=0)\n",
    "\n",
    "bag_clf = BaggingClassifier(lgbm_clf, n_estimators=500, max_samples=100, bootstrap=True, random_state=42)\n",
    "bag_clf.fit(train_data.values, train_target.values)\n",
    "\n",
    "cv_score = cross_val_score(bag_clf, train_data.values, train_target.values, cv=10, scoring=\"accuracy\", n_jobs=-1)\n",
    "print(f'Cross Validations are {cv_score}')\n",
    "print(f'Cross Validation Mean is {np.mean(cv_score)}')"
   ]
  },
  {
   "cell_type": "markdown",
   "id": "26029e76",
   "metadata": {
    "scrolled": false
   },
   "source": [
    "from pycaret.classification import *\n",
    "from sklearn.ensemble import ExtraTreesClassifier\n",
    "from sklearn.ensemble import VotingClassifier\n",
    "from sklearn.linear_model import LogisticRegression\n",
    "from sklearn.svm import SVC\n",
    "from sklearn.model_selection import cross_val_score\n",
    "import numpy as np\n",
    "import pandas as pd\n",
    "import seaborn as sns\n",
    "\n",
    "input_file = \"train.csv\"\n",
    "train = pd.read_csv(input_file)\n",
    "\n",
    "from sklearn.preprocessing import LabelEncoder\n",
    "\n",
    "# LabelEncoder 초기화\n",
    "label_encoder = LabelEncoder()\n",
    "\n",
    "# 'Activity' 열을 숫자 값으로 변환\n",
    "train[\"Activity\"] = label_encoder.fit_transform(train[\"Activity\"])\n",
    "\n",
    "train_data = train.drop(\"Activity\", axis=1)\n",
    "train_data = train_data.drop(\"subject\", axis=1)\n",
    "\n",
    "train_target = train[\"Activity\"].copy()\n",
    "print(train_data.values)\n",
    "print(train_target.values)\n",
    "\n",
    "# 단계 1: 상관계수 구하기\n",
    "correlation_matrix = train_data.corr()\n",
    "\n",
    "# 상관 계수 히트맵 시각화에서 annot을 True로 변경\n",
    "sns.heatmap(correlation_matrix, annot=True, cmap=\"coolwarm\", fmt=\".2f\", xticklabels=train_data.columns, yticklabels=train_data.columns)\n",
    "\n",
    "# 단계 3: Z 스코어 계산 및 이상치 제거\n",
    "def remove_outliers_by_z_score(data):\n",
    "    # NaN 값 제거\n",
    "    data_no_na = data.dropna()\n",
    "    \n",
    "    # Z 스코어 계산\n",
    "    z_scores = np.abs((data_no_na - data_no_na.mean()) / data_no_na.std())\n",
    "    threshold = 8  # 임계값 설정\n",
    "    \n",
    "    # 이상치를 NaN으로 설정\n",
    "    data_no_outliers = data_no_na.copy()\n",
    "    data_no_outliers[z_scores > threshold] = np.nan\n",
    "    \n",
    "    return data_no_outliers\n",
    "\n",
    "# 이상치를 제거한 후 NaN 값을 처리하는 전략을 구현 (예: 평균값으로 대체)\n",
    "train_data_no_outliers = train_data.apply(remove_outliers_by_z_score)\n",
    "train_data_no_na = train_data_no_outliers.fillna(train_data_no_outliers.mean())\n",
    "\n",
    "# 피처 열이 누락되지 않도록 DataFrame에 올바르게 저장\n",
    "train_data_no_na = train_data_no_outliers.dropna(axis=1)\n",
    "\n",
    "print(train_data_no_na.values)\n",
    "print(train_target.values)\n",
    "\n",
    "## 데이터 로딩\n",
    "clf_data = pd.concat([train_data_no_na, train_target], axis=1)\n",
    "\n",
    "# 사용자 정의 앙상블 모델 생성\n",
    "def custom_ensemble_model():\n",
    "    log_clf = LogisticRegression(solver=\"liblinear\", random_state=42)\n",
    "    extraTree_clf = ExtraTreesClassifier(n_estimators=500, max_depth=50, min_samples_leaf=1, min_samples_split=2, random_state=42, n_jobs=-1)\n",
    "    svm_clf = SVC(gamma=\"auto\", probability=True, random_state=42, kernel=\"linear\")\n",
    "    \n",
    "    ensemble_model = VotingClassifier(estimators=[('lr', log_clf), ('et', extraTree_clf), ('svc', svm_clf)], voting='soft')\n",
    "    return ensemble_model\n",
    "\n",
    "# PyCaret 초기화\n",
    "exp = setup(data=clf_data, target='Activity', session_id=42, verbose=False)\n",
    "\n",
    "# 사용자 정의 앙상블 모델 등록 및 튜닝\n",
    "custom_ensemble = custom_ensemble_model()\n",
    "\n",
    "# 앙상블 모델의 하이퍼파라미터 튜닝\n",
    "tuned_custom_ensemble = tune_model(custom_ensemble, optimize='Accuracy', fold=10, n_iter=150)\n",
    "\n",
    "# 최적 파라미터 출력\n",
    "best_params = tuned_custom_ensemble.get_params()\n",
    "print(\"-----------------------------------------------------------------------------\")\n",
    "print(\"Best Hyperparameters:\", best_params)\n",
    "print(\"-----------------------------------------------------------------------------\")\n",
    "\n",
    "log_clf = LogisticRegression(solver=\"liblinear\", random_state=42)\n",
    "extraTree_clf = ExtraTreesClassifier(n_estimators=500, max_depth=50, min_samples_leaf=1, min_samples_split=2, random_state=42, n_jobs=-1)\n",
    "svm_clf = SVC(gamma=\"auto\", probability=True, random_state=42, kernel=\"linear\")\n",
    "\n",
    "voting_clf = VotingClassifier(estimators=[('lr', log_clf), ('et', extraTree_clf), ('svc', svm_clf)], voting='soft')\n",
    "\n",
    "# Voting 분류기에 PyCaret에서 얻은 최적 하이퍼파라미터 적용\n",
    "voting_clf.set_params(**best_params)\n",
    "\n",
    "# Voting 분류기 훈련\n",
    "voting_clf.fit(train_data_no_na.values, train_target.values)\n",
    "\n",
    "cross_val_scores = cross_val_score(voting_clf, train_data_no_na.values, train_target.values, cv=10, scoring='accuracy')\n",
    "print(f\"Cross Validations are {cross_val_scores}\")\n",
    "print(f\"Cross Validations on mean is {np.mean(cross_val_scores)}\")"
   ]
  },
  {
   "cell_type": "markdown",
   "id": "6fa344b0",
   "metadata": {},
   "source": [
    "import numpy as np\n",
    "import pandas as pd\n",
    "from sklearn.preprocessing import StandardScaler\n",
    "from sklearn.ensemble import VotingClassifier, RandomForestClassifier, BaggingClassifier\n",
    "from sklearn.svm import SVC\n",
    "from sklearn.linear_model import LogisticRegression\n",
    "from sklearn.model_selection import cross_val_score\n",
    "\n",
    "# 데이터 불러오기\n",
    "input_file = \"train.csv\"\n",
    "train = pd.read_csv(input_file)\n",
    "\n",
    "# 데이터 전처리\n",
    "train_data = train.drop([\"Activity\", \"subject\"], axis=1)\n",
    "train_target = train[\"Activity\"].copy()\n",
    "\n",
    "scaler = StandardScaler()\n",
    "train_data_scale = scaler.fit_transform(train_data.astype(np.float32))\n",
    "\n",
    "# 기본 시드 설정\n",
    "seed = 21401\n",
    "\n",
    "# 데이터 섞기\n",
    "np.random.seed(seed)\n",
    "sh_in = np.random.permutation(len(train_data))\n",
    "sh_t_data = train_data.values[sh_in]\n",
    "sh_t_target = train_target.values[sh_in]\n",
    "\n",
    "# 모델 초기화\n",
    "log_clf = LogisticRegression(solver=\"liblinear\", random_state=0)\n",
    "rf_clf = RandomForestClassifier(n_estimators=115, max_depth=15, random_state=0, n_jobs=-1)\n",
    "bag_clf = BaggingClassifier(\n",
    "    base_estimator=rf_clf, bootstrap=False, random_state=42)\n",
    "svm_clf = SVC(gamma='auto', probability=True, random_state=0, kernel=\"linear\")\n",
    "\n",
    "voting_clf = VotingClassifier(\n",
    "    estimators=[('lr', log_clf), ('rf', bag_clf), ('svc', svm_clf)],\n",
    "    voting='soft'\n",
    ")\n",
    "\n",
    "# 교차 검증 수행\n",
    "cross_val_scores = cross_val_score(voting_clf, sh_t_data, sh_t_target, cv=10, scoring='accuracy', n_jobs=-1)\n",
    "print(f\"Cross Validation Scores: {cross_val_scores}\")\n",
    "print(f\"Cross Validation Mean is {np.mean(cross_val_scores)}\")\n"
   ]
  },
  {
   "cell_type": "markdown",
   "id": "6ed4d6dc",
   "metadata": {},
   "source": [
    "import numpy as np\n",
    "import pandas as pd\n",
    "from sklearn.preprocessing import StandardScaler\n",
    "from sklearn.ensemble import VotingClassifier, RandomForestClassifier, BaggingClassifier\n",
    "from sklearn.svm import SVC\n",
    "from sklearn.linear_model import LogisticRegression\n",
    "from sklearn.model_selection import cross_val_score\n",
    "\n",
    "# 데이터 불러오기\n",
    "input_file = \"train.csv\"\n",
    "train = pd.read_csv(input_file)\n",
    "\n",
    "# 데이터 전처리\n",
    "train_data = train.drop([\"Activity\", \"subject\"], axis=1)\n",
    "train_target = train[\"Activity\"].copy()\n",
    "\n",
    "scaler = StandardScaler()\n",
    "train_data_scale = scaler.fit_transform(train_data.astype(np.float32))\n",
    "\n",
    "# 기본 시드 설정\n",
    "seed = 21401\n",
    "\n",
    "# 데이터 섞기\n",
    "np.random.seed(seed)\n",
    "sh_in = np.random.permutation(len(train_data))\n",
    "sh_t_data = train_data.values[sh_in]\n",
    "sh_t_target = train_target.values[sh_in]\n",
    "\n",
    "# 모델 초기화\n",
    "log_clf = LogisticRegression(solver=\"liblinear\", random_state=0)\n",
    "rf_clf = RandomForestClassifier(bootstrap=False, random_state=0, n_jobs=-1)\n",
    "svm_clf = SVC(gamma='auto', probability=True, random_state=0, kernel=\"linear\")\n",
    "\n",
    "voting_clf = VotingClassifier(\n",
    "    estimators=[('lr', log_clf), ('rf', rf_clf), ('svc', svm_clf)],\n",
    "    voting='soft'\n",
    ")\n",
    "\n",
    "# 교차 검증 수행\n",
    "cross_val_scores = cross_val_score(voting_clf, sh_t_data, sh_t_target, cv=10, scoring='accuracy', n_jobs=-1)\n",
    "print(f\"Cross Validation Scores: {cross_val_scores}\")\n",
    "print(f\"Cross Validation Mean is {np.mean(cross_val_scores)}\")\n"
   ]
  },
  {
   "cell_type": "markdown",
   "id": "4d26c509",
   "metadata": {},
   "source": [
    "import numpy as np\n",
    "import pandas as pd\n",
    "from sklearn.preprocessing import StandardScaler, LabelEncoder\n",
    "from sklearn.ensemble import VotingClassifier, RandomForestClassifier, BaggingClassifier\n",
    "from sklearn.svm import SVC\n",
    "from sklearn.linear_model import LogisticRegression\n",
    "from sklearn.model_selection import cross_val_score\n",
    "\n",
    "# 데이터 불러오기\n",
    "input_file = \"train.csv\"\n",
    "train = pd.read_csv(input_file)\n",
    "\n",
    "# 데이터 전처리\n",
    "train_data = train.drop([\"Activity\", \"subject\"], axis=1)\n",
    "train_target = train[\"Activity\"].copy()\n",
    "\n",
    "scaler = StandardScaler()\n",
    "train_data_scale = scaler.fit_transform(train_data.astype(np.float32))\n",
    "\n",
    "label_encoder = LabelEncoder()\n",
    "train_target_new = label_encoder.fit_transform(train_target)\n",
    "\n",
    "# 기본 시드 설정\n",
    "seed = 21401\n",
    "\n",
    "# 데이터 섞기\n",
    "np.random.seed(seed)\n",
    "sh_in = np.random.permutation(len(train_data))\n",
    "sh_t_data = train_data.values[sh_in]\n",
    "sh_t_target = train_target_new[sh_in]\n",
    "\n",
    "# 모델 초기화\n",
    "log_clf = LogisticRegression(solver=\"liblinear\", random_state=0)\n",
    "rf_clf = RandomForestClassifier(bootstrap=False, n_estimators=120, max_depth=30, random_state=0, n_jobs=4)\n",
    "svm_clf = SVC(C=1, gamma='auto', probability=True, random_state=0, kernel=\"linear\")\n",
    "\n",
    "voting_clf = VotingClassifier(\n",
    "    estimators=[('lr', log_clf), ('rf', rf_clf), ('svc', svm_clf)],\n",
    "    voting='soft'\n",
    ")\n",
    "\n",
    "# 교차 검증 수행\n",
    "cross_val_scores = cross_val_score(voting_clf, sh_t_data, sh_t_target, cv=10, scoring='accuracy', n_jobs=4)\n",
    "print(f\"Cross Validation Scores: {cross_val_scores}\")\n",
    "print(f\"Cross Validation Mean is {np.mean(cross_val_scores)}\")\n"
   ]
  },
  {
   "cell_type": "markdown",
   "id": "21dfc560",
   "metadata": {},
   "source": [
    "# 결과"
   ]
  },
  {
   "cell_type": "code",
   "execution_count": 1,
   "id": "883466dd",
   "metadata": {},
   "outputs": [
    {
     "name": "stdout",
     "output_type": "stream",
     "text": [
      "Cross Validation Scores: [0.99048913 0.98505435 0.99183673 0.99183673 0.99455782 0.99183673\n",
      " 0.99591837 0.99047619 0.99047619 0.99319728]\n",
      "Cross Validation Mean is 0.9915679532682639\n"
     ]
    }
   ],
   "source": [
    "import numpy as np\n",
    "import pandas as pd\n",
    "from sklearn.preprocessing import StandardScaler, LabelEncoder\n",
    "from sklearn.ensemble import VotingClassifier, RandomForestClassifier\n",
    "from sklearn.svm import SVC\n",
    "from sklearn.linear_model import LogisticRegression\n",
    "from sklearn.model_selection import cross_val_score\n",
    "\n",
    "# 데이터 불러오기\n",
    "input_file = \"train.csv\"\n",
    "train = pd.read_csv(input_file)\n",
    "\n",
    "# 데이터 전처리\n",
    "train_data = train.drop([\"Activity\", \"subject\"], axis=1)\n",
    "train_target = train[\"Activity\"].copy()\n",
    "\n",
    "scaler = StandardScaler()\n",
    "train_data_scale = scaler.fit_transform(train_data.astype(np.float32))\n",
    "\n",
    "label_encoder = LabelEncoder()\n",
    "train_target_new = label_encoder.fit_transform(train_target)\n",
    "\n",
    "# 기본 시드 설정\n",
    "seed = 21401\n",
    "\n",
    "# 데이터 섞기\n",
    "np.random.seed(seed)\n",
    "sh_in = np.random.permutation(len(train_data))\n",
    "sh_t_data = train_data.values[sh_in]\n",
    "sh_t_target = train_target_new[sh_in]\n",
    "\n",
    "# 모델 초기화\n",
    "log_clf = LogisticRegression(solver=\"liblinear\", random_state=0)\n",
    "rf_clf = RandomForestClassifier(bootstrap=False, n_estimators=120, max_depth=30, random_state=9636, n_jobs=-1)\n",
    "svm_clf = SVC(C=1, gamma='auto', probability=True, random_state=246, kernel=\"linear\")\n",
    "\n",
    "voting_clf = VotingClassifier(\n",
    "    estimators=[('lr', log_clf), ('rf', rf_clf), ('svc', svm_clf)],\n",
    "    voting='soft'\n",
    ")\n",
    "\n",
    "# 교차 검증 수행\n",
    "cross_val_scores = cross_val_score(voting_clf, sh_t_data, sh_t_target, cv=10, scoring='accuracy', n_jobs=-1)\n",
    "print(f\"Cross Validation Scores: {cross_val_scores}\")\n",
    "print(f\"Cross Validation Mean is {np.mean(cross_val_scores)}\")\n"
   ]
  },
  {
   "cell_type": "code",
   "execution_count": null,
   "id": "cb27cb9d",
   "metadata": {},
   "outputs": [],
   "source": []
  }
 ],
 "metadata": {
  "colab": {
   "provenance": []
  },
  "kernelspec": {
   "display_name": "Python 3 (ipykernel)",
   "language": "python",
   "name": "python3"
  },
  "language_info": {
   "codemirror_mode": {
    "name": "ipython",
    "version": 3
   },
   "file_extension": ".py",
   "mimetype": "text/x-python",
   "name": "python",
   "nbconvert_exporter": "python",
   "pygments_lexer": "ipython3",
   "version": "3.11.5"
  }
 },
 "nbformat": 4,
 "nbformat_minor": 5
}
